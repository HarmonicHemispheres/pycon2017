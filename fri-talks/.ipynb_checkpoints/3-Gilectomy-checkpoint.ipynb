{
 "cells": [
  {
   "cell_type": "markdown",
   "metadata": {},
   "source": [
    "## The Gilectomy: How's It Going?\n",
    "#### Larry Hastings\n",
    "Larry has been using Python since the lateish 90s. He is a CPython core contributor, and is Release Manager for Python 3.4.\n",
    "<hr>\n",
    "#### Abstract\n",
    "One of the most interesting projects in Python today is Larry Hastings' \"Gilectomy\" project: the removal of Python's Global Interpreter Lock, or \"GIL\". Come for an up-to-the-minute status report: what's been tried, what has and hasn't worked, and what performance is like now.\n",
    "<hr>"
   ]
  },
  {
   "cell_type": "markdown",
   "metadata": {},
   "source": [
    "#### Overview\n",
    "- Removing the GIL from python\n",
    "- https://github.com/larryhastings/gilectomy\n",
    "- "
   ]
  }
 ],
 "metadata": {
  "kernelspec": {
   "display_name": "Python 2",
   "language": "python",
   "name": "python2"
  },
  "language_info": {
   "codemirror_mode": {
    "name": "ipython",
    "version": 2
   },
   "file_extension": ".py",
   "mimetype": "text/x-python",
   "name": "python",
   "nbconvert_exporter": "python",
   "pygments_lexer": "ipython2",
   "version": "2.7.13"
  }
 },
 "nbformat": 4,
 "nbformat_minor": 2
}

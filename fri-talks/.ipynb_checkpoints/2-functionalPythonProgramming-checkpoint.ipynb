{
 "cells": [
  {
   "cell_type": "markdown",
   "metadata": {},
   "source": [
    "## Immutable Programming - Writing Functional Python\n",
    "#### Calen Pennington\n",
    "Cale is a lead architect at edX.org. Python engineer by day, Haskell hacker by night, he loves to use just the right amount of magic to clarify his designs. When not programming, he plays boardgames and parents a very active toddler.\n",
    "<hr>\n",
    "#### Abstract\n",
    "The world of Haskell and functional programming may seem like a distant place to many working Python developers, but some of the techniques used there are remarkably useful when developing in Python.\n",
    "\n",
    "In this talk, I will cover some of the pitfalls of mutability that you may run into while writing Python programs, and some tools and techniques that Python has built in that will let you avoid them. You'll see namedtuples, enums and properties, and also some patterns for structuring immutable programs that will make them easier to build, extend, and test.\n",
    "<hr>"
   ]
  },
  {
   "cell_type": "markdown",
   "metadata": {},
   "source": [
    "#### EdEx.org (https://www.edx.org/)\n",
    "- django shop\n",
    "- immutibilty leads to a different mindset\n",
    "- frozensets (https://docs.python.org/2.4/lib/types-set.html)\n",
    "- nameTuple()\n",
    "    - from collections import nametuple\n",
    "    - creates new class\n",
    "    - https://docs.python.org/2/library/collections.html#collections.namedtuple\n",
    "- property\n",
    "    - https://www.programiz.com/python-programming/property\n",
    "    "
   ]
  }
 ],
 "metadata": {
  "kernelspec": {
   "display_name": "Python 3",
   "language": "python",
   "name": "python3"
  },
  "language_info": {
   "codemirror_mode": {
    "name": "ipython",
    "version": 3
   },
   "file_extension": ".py",
   "mimetype": "text/x-python",
   "name": "python",
   "nbconvert_exporter": "python",
   "pygments_lexer": "ipython3",
   "version": "3.6.0"
  }
 },
 "nbformat": 4,
 "nbformat_minor": 2
}

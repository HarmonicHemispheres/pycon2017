{
 "cells": [
  {
   "cell_type": "markdown",
   "metadata": {},
   "source": [
    "## Optimizations which made Python 3.6 faster than Python 3.5\n",
    "##### Victor Stinner\n",
    "Python core developer since 2010, I'm the author of various Python applications and libraries Python. See my profile on Bitbucket ( https://bitbucket.org/haypo/ ) and and Github ( http://github.com/haypo/ ). I'm working on OpenStack for Red Hat from France.\n",
    "<hr>\n",
    "#### Abstract\n",
    "Various optimizations made Python 3.6 faster than Python 3.5. Let's see in detail what was done and how.\n",
    "\n",
    "Python 3.6 is faster than any other Python version on many benchmarks. We will see results of the Python benchmark suite on Python 2.7, 3.5 and 3.6.\n",
    "\n",
    "The bytecode format and instructions to call functions were redesign to run bytecode faster.\n",
    "\n",
    "A new C calling convention, called \"fast call\", was introduced to avoid temporary tuple and dict. The way Python parses arguments was also optimized using a new internal cache.\n",
    "\n",
    "Operations on bytes and encodes like UTF-8 were optimized a lot thanks to a new API to create bytes objects. The API allows very efficient optimizations and reduces memory reallocations.\n",
    "\n",
    "Some parts of asyncio were rewritten in C to speedup code up to 25%. The PyMem_Malloc() function now also uses the fast pymalloc allocator also giving tiny speedup for free.\n",
    "\n",
    "Finally, we will see optimization projects for Python 3.7: use fast calls in more cases, speed up method calls, a cache on opcodes, a cache on global variables.\n",
    "<hr>"
   ]
  },
  {
   "cell_type": "markdown",
   "metadata": {},
   "source": [
    "#### Benchmarks\n",
    "- perf module (https://pypi.python.org/pypi/perf)\n",
    "- python speed center (https://speed.python.org/)\n",
    "\n",
    "#### Python 3.6 Optimizations\n",
    "- pyMem_Malloc()\n",
    "    - python fast memory allocator (https://docs.python.org/3/c-api/memory.html#c.PyMem_Malloc)\n",
    "- stopped using pigits tests and now use python test suite\n",
    "    - https://docs.python.org/3/library/unittest.html\n",
    "- \n"
   ]
  }
 ],
 "metadata": {
  "kernelspec": {
   "display_name": "Python 3",
   "language": "python",
   "name": "python3"
  },
  "language_info": {
   "codemirror_mode": {
    "name": "ipython",
    "version": 3
   },
   "file_extension": ".py",
   "mimetype": "text/x-python",
   "name": "python",
   "nbconvert_exporter": "python",
   "pygments_lexer": "ipython3",
   "version": "3.6.0"
  }
 },
 "nbformat": 4,
 "nbformat_minor": 2
}

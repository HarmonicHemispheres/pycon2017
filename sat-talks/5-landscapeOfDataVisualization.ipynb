{
 "cells": [
  {
   "cell_type": "markdown",
   "metadata": {},
   "source": [
    "## The Python Visualization Landscape\n",
    "#### Jake VanderPlas \n",
    "Jake VanderPlas is a data science fellow at the University of Washington's eScience Institute, where his work focuses on data-intensive physical science research in an interdisciplinary setting. In the Python world, Jake is the author of the Python Data Science Handbook, and is active in maintaining and/or contributing to several well-known Python scientific computing packages, including Scikit-learn, Scipy, Matplotlib, Astropy, Altair, and others. He occasionally blogs on python-related topics at http://jakevdp.github.io/\n",
    "#### Abstract\n",
    "So you want to visualize some data in Python: which library do you choose? From Matplotlib to Seaborn to Bokeh to Plotly, Python has a range of mature tools to create beautiful visualizations, each with their own strengths and weaknesses. In this talk I’ll give an overview of the landscape of dataviz tools in Python, as well as some deeper dives into a few, so that you can intelligently choose which library to turn to for any given visualization task.\n",
    "<hr>"
   ]
  },
  {
   "cell_type": "markdown",
   "metadata": {},
   "source": [
    "#### Mentioned Tools\n",
    "- matplotlib\n",
    "    - pandas\n",
    "    - seaborn\n",
    "    - networkx\n",
    "    - ggpy\n",
    "    - basemap\n",
    "    - cartopy\n",
    "    - yellow brick (http://pythonhosted.org/yellowbrick/)\n",
    "- javascript\n",
    "    - plotly\n",
    "    - toyplot\n",
    "    - bqplot\n",
    "    - pythreejs\n",
    "    - ipyvolume\n",
    "    - bokeh (http://bokeh.pydata.org/en/latest/)\n",
    "        - developped by contiuum analytics\n",
    "    - d3.js (https://d3js.org/)\n",
    "        - vega\n",
    "        - vega-lite\n",
    "- OpenGL\n",
    "    - glumpy\n",
    "    - vispy\n",
    "- YT\n",
    "- GR\n",
    "- Glueviz\n",
    "- lightning\n",
    "- datashader (https://github.com/bokeh/datashader)\n",
    "- Vaex\n",
    "- holoviews (http://holoviews.org/)\n",
    "- altair (https://github.com/altair-viz/altair)\n",
    "- Chaco (http://code.enthought.com/projects/chaco/intro.php)\n",
    "- pyQTGraph (http://www.pyqtgraph.org/)\n",
    "- "
   ]
  },
  {
   "cell_type": "markdown",
   "metadata": {},
   "source": [
    "#### Modules\n",
    "- matplotlib (plotting)\n",
    "- pandas (dataframes)\n",
    "    - panda.tools.plotting import andrew_curves\n",
    "- seaborn (making matplotlib easier to use)\n",
    "    - good for exploratory stats with matplotlib\n",
    "- plotly\n",
    "- Altair\n",
    "\n",
    "#### NOTES\n",
    "- visualization types\n",
    "    - Declaritive (what should be done)\n",
    "    - Imperitive (how how something should be done)\n",
    "- UW interactive Data Lab (https://idl.cs.washington.edu/)\n",
    "- "
   ]
  }
 ],
 "metadata": {
  "kernelspec": {
   "display_name": "Python 3",
   "language": "python",
   "name": "python3"
  },
  "language_info": {
   "codemirror_mode": {
    "name": "ipython",
    "version": 3
   },
   "file_extension": ".py",
   "mimetype": "text/x-python",
   "name": "python",
   "nbconvert_exporter": "python",
   "pygments_lexer": "ipython3",
   "version": "3.6.0"
  }
 },
 "nbformat": 4,
 "nbformat_minor": 2
}

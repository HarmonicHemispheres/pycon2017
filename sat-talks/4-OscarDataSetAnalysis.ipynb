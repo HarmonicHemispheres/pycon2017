{
 "cells": [
  {
   "cell_type": "markdown",
   "metadata": {},
   "source": [
    "## Lights, camera, action! Scraping a great dataset to predict Oscar winners\n",
    "#### Deborah Hanus\n",
    "Deborah Hanus graduated MIT with a Masters in Electrical Engineering & Computer Science. As a Fulbright Scholar in Cambodia, she learned about how education translates into job creation in technology. After working as an early engineer at a software company, she decided to take a hiatus to work on exciting data-related projects as a machine learning researcher at Harvard University.\n",
    "#### Abstract\n",
    "Using Jupyter notebooks and scikit-learn, you’ll predict whether a movie is likely to win an Oscar or be a box office hit. Together, we’ll step through the creation of an effective dataset: asking a question your data can answer, writing a web scraper, and answering those questions using nothing but Python libraries and data from the Internet. \n",
    "<hr>"
   ]
  },
  {
   "cell_type": "markdown",
   "metadata": {},
   "source": [
    "#### Talk\n",
    "- define a question you can answer...\n",
    "    - what is the probability of X given Y\n",
    "    - what is the correlation between X and Y\n",
    "- Good Data\n",
    "    - relevent \n",
    "    - structured\n",
    "    - accessible\n",
    "\n",
    "#### Resources\n",
    "- movie stats (http://www.boxofficemojo.com/)\n",
    "- Beautiful Soup https://www.crummy.com/software/BeautifulSoup/bs4/doc/\n",
    "- IMDBpy api (is extremely slow)\n",
    "- Requests (http://docs.python-requests.org/en/master/)\n",
    "\n",
    "#### Methods\n",
    "- multivariate regression (https://stats.idre.ucla.edu/stata/dae/multivariate-regression-analysis/)\n",
    "- Oscar Predictor (https://github.com/oscarpredictor)\n"
   ]
  }
 ],
 "metadata": {
  "kernelspec": {
   "display_name": "Python 3",
   "language": "python",
   "name": "python3"
  },
  "language_info": {
   "codemirror_mode": {
    "name": "ipython",
    "version": 3
   },
   "file_extension": ".py",
   "mimetype": "text/x-python",
   "name": "python",
   "nbconvert_exporter": "python",
   "pygments_lexer": "ipython3",
   "version": "3.6.0"
  }
 },
 "nbformat": 4,
 "nbformat_minor": 2
}

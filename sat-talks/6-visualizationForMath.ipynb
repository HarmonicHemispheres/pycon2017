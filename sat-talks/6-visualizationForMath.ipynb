{
 "cells": [
  {
   "cell_type": "markdown",
   "metadata": {},
   "source": [
    "## Python for mathematical visualization: a four-dimensional case study\n",
    "#### David Dumas\n",
    "David Dumas is a professor of mathematics at the University of Illinois at Chicago. His research in low-dimensional geometry and topology frequently incorporates results of computer experiments and visualizations, most of which he develops in Python.<br>\n",
    "https://github.com/daviddumas?tab=repositories\n",
    "#### Abstract\n",
    "This is a talk about creating pictures of a mathematical object---specifically, a 4-dimensional fractal \"dust\" that has been the subject of mathematical research in hyperbolic geometry since the 1980s. In the end this is accomplished using a little algebra, a little geometry, and a healthy dose of Python.\n",
    "\n",
    "That is, I will present a case study of using Python in several aspects of a mathematical visualization project, from the computation itself, to transforming and converting data, and finally for scripting the process of generating the images. Along the way I'll explain how Python's convenient idioms and containers (e.g. sets and set comprehensions) are a good fit for some of the algebraic and geometric questions that come up, how Scipy and Numpy enable fast numerical calculations, and how Python's strength as a language for scripting and automation allows easy orchestration of rendering of still images and frames of animations.\n",
    "\n",
    "The mathematical visualization project we describe is a collaboration with François Guéritaud (Université de Lille).\n",
    "<hr>"
   ]
  },
  {
   "cell_type": "markdown",
   "metadata": {},
   "source": [
    "#### NOTES\n",
    "- PML visualization project\n",
    "- topilogical enumeration\n",
    "    - start to finish with obstacle in middle\n",
    "- POV-ray (http://www.povray.org/)"
   ]
  },
  {
   "cell_type": "code",
   "execution_count": 34,
   "metadata": {
    "collapsed": true
   },
   "outputs": [],
   "source": [
    "from itertools import product\n",
    "\n",
    "def combinations(vals):\n",
    "    B = []\n",
    "    for w in product(vals, repeat=len(vals)):\n",
    "        B.append(w)\n",
    "    return B\n",
    "\n",
    "def display_group(vals):\n",
    "    print(\"===\")\n",
    "    for i in vals:\n",
    "        print(i)\n",
    "\n",
    "        \n",
    "def remove_dups(vals):\n",
    "    ind = 0\n",
    "    i = vals[ind]\n",
    "    while ind < len(vals):\n",
    "        if (vals.count(i) > 1):\n",
    "            vals.remove(i)\n",
    "            ind -= 1\n",
    "        ind += 1\n",
    "        if (ind >= len(vals)):\n",
    "            break\n",
    "        i = vals[ind]"
   ]
  },
  {
   "cell_type": "code",
   "execution_count": 46,
   "metadata": {},
   "outputs": [
    {
     "name": "stdout",
     "output_type": "stream",
     "text": [
      "===\n",
      "('q', 'q', 'q')\n",
      "('q', 'q', 'a')\n",
      "('q', 'q', 'w')\n",
      "('q', 'a', 'q')\n",
      "('q', 'a', 'a')\n",
      "('q', 'a', 'w')\n",
      "('q', 'w', 'q')\n",
      "('q', 'w', 'a')\n",
      "('q', 'w', 'w')\n",
      "('a', 'q', 'q')\n",
      "('a', 'q', 'a')\n",
      "('a', 'q', 'w')\n",
      "('a', 'a', 'q')\n",
      "('a', 'a', 'a')\n",
      "('a', 'a', 'w')\n",
      "('a', 'w', 'q')\n",
      "('a', 'w', 'a')\n",
      "('a', 'w', 'w')\n",
      "('w', 'q', 'q')\n",
      "('w', 'q', 'a')\n",
      "('w', 'q', 'w')\n",
      "('w', 'a', 'q')\n",
      "('w', 'a', 'a')\n",
      "('w', 'a', 'w')\n",
      "('w', 'w', 'q')\n",
      "('w', 'w', 'a')\n",
      "('w', 'w', 'w')\n"
     ]
    }
   ],
   "source": [
    "import pandas\n",
    "L = \"qaw\"\n",
    "B = combinations(L)\n",
    "#df = pandas.DataFrame(B)\n",
    "#df.head()\n",
    "remove_dups(B)\n",
    "display_group(B)"
   ]
  }
 ],
 "metadata": {
  "kernelspec": {
   "display_name": "Python 3",
   "language": "python",
   "name": "python3"
  },
  "language_info": {
   "codemirror_mode": {
    "name": "ipython",
    "version": 3
   },
   "file_extension": ".py",
   "mimetype": "text/x-python",
   "name": "python",
   "nbconvert_exporter": "python",
   "pygments_lexer": "ipython3",
   "version": "3.6.0"
  }
 },
 "nbformat": 4,
 "nbformat_minor": 2
}

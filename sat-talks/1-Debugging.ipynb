{
 "cells": [
  {
   "cell_type": "markdown",
   "metadata": {},
   "source": [
    "## Debugging in Python 3.6: Better, Faster, Stronger\n",
    "#### Elizaveta Shashkova\n",
    "Elizaveta Shashkova is a software developer of PyCharm IDE at JetBrains. She is working on the Python debugger which is part of PyCharm and PyDev. Also she is the author of PyCharm's Concurrency Visualiser.\n",
    "https://github.com/Elizaveta239/frame-eval\n",
    "\n",
    "#### Abstract\n",
    "Python 3.6 was released in December of 2016 and it has a lot of new cool features. Some of them are quite easy for using: a developer can read, for example, about f-strings and they can start using them in their programs as soon as possible. But sometimes features are not so evident, and a new frame evaluation API is one of them.\n",
    "The new frame evaluation API was introduced to CPython in PEP 523 and it allows to specify a per-interpreter function pointer to handle the evaluation of frames. It might not be evident how to use this new feature in everyday life, but it’s quite easy to understand how to build a fast debugger based on it.\n",
    "In this talk we are going to explain how standard way of debugging in Python works and how a new frame evaluation API may be useful for creating the fast debugger. Also we will consider why such fast debugging was not possible in the previous versions of Python. If someone hasn’t made a final decision to move to Python 3.6 this talk will provide some new reasons to do it.\n",
    "<hr>"
   ]
  },
  {
   "cell_type": "markdown",
   "metadata": {},
   "source": [
    "#### Tracing Debugger\n",
    "- sys.settrace(tracefunc) - set the system tracing function\n",
    "- frame.f_lineno\n",
    "\n",
    "#### Python 3.6\n",
    "- new frame evaluation api\n",
    "    - handle evaluation of frames\n",
    "    - add a new field to code objects\n",
    "- python dis module (https://docs.python.org/3.6/library/dis.html)\n"
   ]
  }
 ],
 "metadata": {
  "kernelspec": {
   "display_name": "Python 3",
   "language": "python",
   "name": "python3"
  },
  "language_info": {
   "codemirror_mode": {
    "name": "ipython",
    "version": 3
   },
   "file_extension": ".py",
   "mimetype": "text/x-python",
   "name": "python",
   "nbconvert_exporter": "python",
   "pygments_lexer": "ipython3",
   "version": "3.6.0"
  }
 },
 "nbformat": 4,
 "nbformat_minor": 2
}

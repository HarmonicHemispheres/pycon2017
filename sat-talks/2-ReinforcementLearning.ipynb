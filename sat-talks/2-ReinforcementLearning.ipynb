{
 "cells": [
  {
   "cell_type": "markdown",
   "metadata": {},
   "source": [
    "## An Introduction to Reinforcement Learning\n",
    "#### Jessica Forde\n",
    "Jessica is a Visiting Fellow in Computer Science at Harvard, where she researches reinforcement learning. Her focus is applications that allow for human interaction, primarily in healthcare. Jessica is also a data scientist at Careful, a sports medicine startup. Her interest in industrial applications of reinforcement learning began at Columbia, where she developed energy-saving software for skyscrapers in Manhattan, which she demoed at NIPS. Previously, Jessica developed the DARPA-funded open source machine learning library, datamicroscopes, at Qadium. She has worked with consultants at McKinsey to provide data-driven human resources recommendations to clients. She holds an MA in Statistics from Columbia. \n",
    "#### Abstract\n",
    "Reinforcement learning (RL) is a subfield of machine learning focused on building agents: software that can robustly achieve a desired objective under varying states of the world. This introduction will provide you with an overview of RL and tools to build your own agents. In this talk, we will provide an overview of terminology in reinforcement learning and a Jupyter Notebook outlining basic algorithms to learn 'policies', strategies for an agent, and visualize them with numpy, pandas, and seaborn. Newer developments in reinforcement learning apply deep learning to improve performance. We will further discuss deep reinforcement learning and how to use deep learning libraries, such as TensorFlow or Theano, with the latest RL libraries: OpenAI Gym, OpenAI Universe, and DeepMind Lab.\n",
    "<hr>"
   ]
  },
  {
   "cell_type": "markdown",
   "metadata": {},
   "source": [
    "#### Reinforcement Learning\n",
    "- Multi-armed bandits\n",
    "    - 2 states\n",
    "    - Regret: opportunity loss for not following optimal policy\n",
    "- Bandit Problems\n",
    "    - Exploring vs. Exploiting\n",
    "    - e-greedy algo\n",
    "- Reinforcement Learning Book\n",
    "    - http://people.inf.elte.hu/lorincz/Files/RL_2006/SuttonBook.pdf\n",
    "- markov decision process\n",
    "    - actions change the environment\n",
    "    - transitions have probabilities\n",
    "    - gridworld problem\n",
    "        - example (http://cs.stanford.edu/people/karpathy/reinforcejs/gridworld_td.html)\n",
    "- Tabular RL problems\n",
    "    - https://medium.com/emergent-future/simple-reinforcement-learning-with-tensorflow-part-0-q-learning-with-tables-and-neural-networks-d195264329d0#513d\n",
    "- Gym openAI\n",
    "    - https://gym.openai.com/envs\n",
    "- ParlAI\n",
    "    - https://code.facebook.com/posts/266433647155520/parlai-a-new-software-platform-for-dialog-research/\n",
    "\n",
    "Talk notebook Availble (https://github.com/1heart/intro-rl)\n",
    "<hr>"
   ]
  }
 ],
 "metadata": {
  "kernelspec": {
   "display_name": "Python 3",
   "language": "python",
   "name": "python3"
  },
  "language_info": {
   "codemirror_mode": {
    "name": "ipython",
    "version": 3
   },
   "file_extension": ".py",
   "mimetype": "text/x-python",
   "name": "python",
   "nbconvert_exporter": "python",
   "pygments_lexer": "ipython3",
   "version": "3.6.0"
  }
 },
 "nbformat": 4,
 "nbformat_minor": 2
}

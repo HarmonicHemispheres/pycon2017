{
 "cells": [
  {
   "cell_type": "markdown",
   "metadata": {
    "toc": "true"
   },
   "source": [
    "# Table of Contents\n",
    " <p><div class=\"lev1\"><a href=\"#Our-plan\"><span class=\"toc-item-num\">1&nbsp;&nbsp;</span>Our plan</a></div><div class=\"lev1\"><a href=\"#Data-wrangling\"><span class=\"toc-item-num\">2&nbsp;&nbsp;</span>Data wrangling</a></div><div class=\"lev1\"><a href=\"#Data-quality-assessment-and-profiling\"><span class=\"toc-item-num\">3&nbsp;&nbsp;</span>Data quality assessment and profiling</a></div><div class=\"lev2\"><a href=\"#Overview\"><span class=\"toc-item-num\">3.1&nbsp;&nbsp;</span>Overview</a></div><div class=\"lev3\"><a href=\"#Basic-things-to-do\"><span class=\"toc-item-num\">3.1.1&nbsp;&nbsp;</span>Basic things to do</a></div><div class=\"lev3\"><a href=\"#Main-questions\"><span class=\"toc-item-num\">3.1.2&nbsp;&nbsp;</span>Main questions</a></div><div class=\"lev3\"><a href=\"#Helpful-packages\"><span class=\"toc-item-num\">3.1.3&nbsp;&nbsp;</span>Helpful packages</a></div><div class=\"lev3\"><a href=\"#Example-backlog\"><span class=\"toc-item-num\">3.1.4&nbsp;&nbsp;</span>Example backlog</a></div><div class=\"lev2\"><a href=\"#Missing-data\"><span class=\"toc-item-num\">3.2&nbsp;&nbsp;</span>Missing data</a></div><div class=\"lev3\"><a href=\"#By-variable\"><span class=\"toc-item-num\">3.2.1&nbsp;&nbsp;</span>By variable</a></div><div class=\"lev4\"><a href=\"#Deep-dive:-exploitable-variables\"><span class=\"toc-item-num\">3.2.1.1&nbsp;&nbsp;</span>Deep dive: <em>exploitable</em> variables</a></div><div class=\"lev4\"><a href=\"#Deep-dive:-National-rainfall-index\"><span class=\"toc-item-num\">3.2.1.2&nbsp;&nbsp;</span>Deep dive: National rainfall index</a></div><div class=\"lev3\"><a href=\"#By-country\"><span class=\"toc-item-num\">3.2.2&nbsp;&nbsp;</span>By country</a></div><div class=\"lev3\"><a href=\"#By-country-for-a-single-variable\"><span class=\"toc-item-num\">3.2.3&nbsp;&nbsp;</span>By country for a single variable</a></div><div class=\"lev3\"><a href=\"#Over-time\"><span class=\"toc-item-num\">3.2.4&nbsp;&nbsp;</span>Over time</a></div><div class=\"lev2\"><a href=\"#Profiling\"><span class=\"toc-item-num\">3.3&nbsp;&nbsp;</span>Profiling</a></div><div class=\"lev3\"><a href=\"#pivottablejs\"><span class=\"toc-item-num\">3.3.1&nbsp;&nbsp;</span><code>pivottablejs</code></a></div><div class=\"lev3\"><a href=\"#pandas_profiling\"><span class=\"toc-item-num\">3.3.2&nbsp;&nbsp;</span><code>pandas_profiling</code></a></div><div class=\"lev3\"><a href=\"#To-do:-Write-down-observations-from-profiling\"><span class=\"toc-item-num\">3.3.3&nbsp;&nbsp;</span>To do: Write down observations from profiling</a></div><div class=\"lev1\"><a href=\"#To-do:-Collect-list-of-questions-you-have-coming-out-of-quality-assessment-and-profiling\"><span class=\"toc-item-num\">4&nbsp;&nbsp;</span><strong>To do</strong>: Collect list of questions you have coming out of quality assessment and profiling</a></div>"
   ]
  },
  {
   "cell_type": "code",
   "execution_count": null,
   "metadata": {
    "ExecuteTime": {
     "end_time": "2017-05-17T06:20:23.998932Z",
     "start_time": "2017-05-17T06:20:22.254402Z"
    },
    "collapsed": true
   },
   "outputs": [],
   "source": [
    "# must go first \n",
    "%matplotlib inline \n",
    "%config InlineBackend.figure_format='retina'\n",
    "\n",
    "# plotting\n",
    "import matplotlib as mpl\n",
    "from matplotlib import pyplot as plt\n",
    "import seaborn as sns\n",
    "sns.set_context(\"poster\", font_scale=1.3)\n",
    "import folium\n",
    "\n",
    "# system packages \n",
    "import os, sys\n",
    "import warnings\n",
    "warnings.filterwarnings('ignore')\n",
    "\n",
    "# basic wrangling \n",
    "import numpy as np\n",
    "import pandas as pd\n",
    "\n",
    "# eda tools \n",
    "import pivottablejs\n",
    "import missingno as msno\n",
    "import pandas_profiling\n",
    "\n",
    "# File with functions from prior notebook(s)\n",
    "sys.path.append('../scripts/')\n",
    "from aqua_helper import time_slice, country_slice, time_series, simple_regions, subregion, variable_slice\n",
    "\n",
    "# Update matplotlib defaults to something nicer \n",
    "mpl_update = {'font.size':16,\n",
    "              'xtick.labelsize':14,\n",
    "              'ytick.labelsize':14,\n",
    "              'figure.figsize':[12.0,8.0],\n",
    "              'axes.color_cycle':['#0055A7', '#2C3E4F', '#26C5ED', '#00cc66', '#D34100', '#FF9700','#091D32'], \n",
    "              'axes.labelsize':20,\n",
    "              'axes.labelcolor':'#677385',\n",
    "              'axes.titlesize':20,\n",
    "              'lines.color':'#0055A7',\n",
    "              'lines.linewidth':3,\n",
    "              'text.color':'#677385'}\n",
    "mpl.rcParams.update(mpl_update)"
   ]
  },
  {
   "cell_type": "markdown",
   "metadata": {},
   "source": [
    "# Our plan\n",
    "\n",
    "<img src=\"figures/branches.jpg\" alt=\"Crisp-DM\" width=\"390\" align=\"right\">\n",
    "Exploratory data analysis consists of the following major tasks, which we present linearly here because each task doesn't make much sense to do without the ones prior to it. However, in reality, you are going to constantly jump around from step to step.  You may want to do all the steps for a subset of the variables first. Or often, an observation will bring up a question you want to investigate and you'll branch off and explore to answer that question before returning down the main path of exhaustive EDA.\n",
    "\n",
    "1. Research the fields of the dataset \n",
    "2. Form hypotheses/develop investigation themes to explore \n",
    "3. Wrangle data \n",
    "3. **Assess quality of data** \n",
    "4. **Profile data** \n",
    "5. Explore each individual variable in the dataset \n",
    "6. Assess the relationship between each variable and the target \n",
    "7. Assess interactions between variables \n",
    "8. Explore data across many dimensions \n",
    "\n",
    "\n",
    "Throughout the entire analysis you want to:\n",
    "* Capture a list of hypotheses and questions that come up for further exploration.\n",
    "* Record things to watch out for/ be aware of in future analyses. \n",
    "* Show intermediate results to colleagues to get a fresh perspective, feedback, domain knowledge. Don't do EDA in a bubble! Get feedback throughout especially from people removed from the problem and/or with relevant domain knowledge. \n",
    "* Position visuals and results together. EDA relies on your natural pattern recognition abilities so maximize what you'll find by putting visualizations and results in close proximity. \n"
   ]
  },
  {
   "cell_type": "markdown",
   "metadata": {},
   "source": [
    "Write questions that results raise as you go. \n",
    "Keep updating list of hypotheses "
   ]
  },
  {
   "cell_type": "markdown",
   "metadata": {},
   "source": [
    "# Data wrangling "
   ]
  },
  {
   "cell_type": "markdown",
   "metadata": {},
   "source": [
    "http://www.fao.org/nr/water/aquastat/data/query/index.html"
   ]
  },
  {
   "cell_type": "code",
   "execution_count": null,
   "metadata": {
    "ExecuteTime": {
     "end_time": "2017-05-17T06:20:24.332512Z",
     "start_time": "2017-05-17T06:20:24.000449Z"
    },
    "collapsed": true,
    "run_control": {
     "frozen": false,
     "read_only": false
    }
   },
   "outputs": [],
   "source": [
    "data = pd.read_csv('../data/aquastat/aquastat.csv.gzip', compression='gzip')"
   ]
  },
  {
   "cell_type": "code",
   "execution_count": null,
   "metadata": {
    "ExecuteTime": {
     "end_time": "2017-05-17T06:20:24.369758Z",
     "start_time": "2017-05-17T06:20:24.333976Z"
    },
    "collapsed": true,
    "run_control": {
     "frozen": false,
     "read_only": false
    },
    "scrolled": true
   },
   "outputs": [],
   "source": [
    "data[['variable','variable_full']].drop_duplicates()"
   ]
  },
  {
   "cell_type": "markdown",
   "metadata": {},
   "source": [
    "Simplify regions"
   ]
  },
  {
   "cell_type": "code",
   "execution_count": null,
   "metadata": {
    "ExecuteTime": {
     "end_time": "2017-05-17T06:20:24.406810Z",
     "start_time": "2017-05-17T06:20:24.371291Z"
    },
    "collapsed": true,
    "run_control": {
     "frozen": false,
     "read_only": false
    }
   },
   "outputs": [],
   "source": [
    "data.region = data.region.apply(lambda x: simple_regions[x])"
   ]
  },
  {
   "cell_type": "markdown",
   "metadata": {},
   "source": [
    "# Data quality assessment and profiling \n",
    "Before trying to understand what information is in the data, make sure you understand what the data represents and what's missing. \n",
    "\n",
    "## Overview \n",
    "###  Basic things to do \n",
    "* Categorical: count, count distinct, assess unique values \n",
    "* Numerical: count, min, max\n",
    "* Spot-check random samples and samples that you are familiar with \n",
    "* Slice and dice \n",
    "\n",
    "### Main questions\n",
    "* What data isn't there? \n",
    "* Is the data that is there right? \n",
    "* Is the data being generated the way you think? \n",
    "\n",
    "### Helpful packages\n",
    "* [`missingno`](https://github.com/ResidentMario/missingno)\n",
    "* [`pivottablejs`](https://github.com/nicolaskruchten/jupyter_pivottablejs)\n",
    "* [`pandas_profiling`](https://github.com/JosPolfliet/pandas-profiling)\n",
    "\n",
    "### Example backlog\n",
    "* Assess the prevalence of missing data across all data fields, assess whether its missing is random or systematic, and identify patterns when such data is missing\n",
    "* Identify any default values that imply missing data for a given field\n",
    "* Determine sampling strategy for quality assessment and initial EDA\n",
    "* For datetime data types, ensure consistent formatting and granularity of data, and perform sanity checks on all dates present in the data.\n",
    "* In cases where multiple fields capture the same or similar information, understand the relationships between them and assess the most effective field to use\n",
    "* Assess data type of each field\n",
    "* For discrete value types, ensure data formats are consistent\n",
    "* For discrete value types, assess number of distinct values and percent unique and do sanity check on types of answers\n",
    "* For continuous data types, assess descriptive statistics and perform sanity check on values \n",
    "* Understand relationships between timestamps and assess which to use in analysis\n",
    "* Slice data by device type, operating system, software version and ensure consistency in data across slices\n",
    "* For device or app data, identify version release dates and assess data for any changes in format or value around those dates\n"
   ]
  },
  {
   "cell_type": "markdown",
   "metadata": {},
   "source": [
    "## Missing data\n",
    "\n",
    "*What data isn’t there?*\n",
    "\n",
    "Questions to be considering\n",
    "* Are there systematic reasons for missing data? \n",
    "* Are there fields that are always missing at the same time ? \n",
    "* Is there information in what data is missing?"
   ]
  },
  {
   "cell_type": "markdown",
   "metadata": {},
   "source": [
    "Package that provides a number of functions for visualizing what data is missing within a dataset: [`missingno`](https://github.com/ResidentMario/missingno)"
   ]
  },
  {
   "cell_type": "markdown",
   "metadata": {},
   "source": [
    "### By variable"
   ]
  },
  {
   "cell_type": "code",
   "execution_count": null,
   "metadata": {
    "ExecuteTime": {
     "end_time": "2017-05-17T06:20:24.434848Z",
     "start_time": "2017-05-17T06:20:24.408309Z"
    },
    "collapsed": true
   },
   "outputs": [],
   "source": [
    "recent = time_slice(data, '2013-2017')"
   ]
  },
  {
   "cell_type": "code",
   "execution_count": null,
   "metadata": {
    "ExecuteTime": {
     "end_time": "2017-05-17T06:20:27.292525Z",
     "start_time": "2017-05-17T06:20:24.436530Z"
    },
    "collapsed": true,
    "run_control": {
     "frozen": false,
     "read_only": false
    }
   },
   "outputs": [],
   "source": [
    "msno.bar(recent, labels=True)"
   ]
  },
  {
   "cell_type": "markdown",
   "metadata": {},
   "source": [
    "**Discussion**: What questions does this figure bring up? \n",
    "\n",
    "Add these to your list of questions! "
   ]
  },
  {
   "cell_type": "code",
   "execution_count": null,
   "metadata": {
    "ExecuteTime": {
     "end_time": "2017-05-17T06:20:29.988155Z",
     "start_time": "2017-05-17T06:20:27.294221Z"
    },
    "collapsed": true,
    "run_control": {
     "frozen": false,
     "read_only": false
    }
   },
   "outputs": [],
   "source": [
    "msno.matrix(recent, labels=True)"
   ]
  },
  {
   "cell_type": "markdown",
   "metadata": {},
   "source": [
    "**Discussion:** What additional information does this provide or what additional questions does it suggest? "
   ]
  },
  {
   "cell_type": "markdown",
   "metadata": {},
   "source": [
    "#### Deep dive: *exploitable* variables "
   ]
  },
  {
   "cell_type": "markdown",
   "metadata": {},
   "source": [
    "\"Exploitable\" variables are missing for most countries. \n",
    "\n",
    "Question to consider: Does this happen in each time period? "
   ]
  },
  {
   "cell_type": "code",
   "execution_count": null,
   "metadata": {
    "ExecuteTime": {
     "end_time": "2017-05-17T06:20:31.829834Z",
     "start_time": "2017-05-17T06:20:29.990235Z"
    },
    "collapsed": true
   },
   "outputs": [],
   "source": [
    "msno.matrix(variable_slice(data, 'exploitable_total'), inline=False, sort='descending');\n",
    "plt.xlabel('Time period');\n",
    "plt.ylabel('Country');\n",
    "plt.title('Missing total exploitable water resources data across countries and time periods \\n \\n \\n \\n');"
   ]
  },
  {
   "cell_type": "markdown",
   "metadata": {},
   "source": [
    "Total exploitable water resources is only reported on for a fraction of the countries and only a very small fraction of those countries have data for the most recent time period. Either a) data has not been reported *yet* and it will be at some point or b) most countries have stopped reporting on this factor or c) we do not have the domain knowledge to understand what's happening.  "
   ]
  },
  {
   "cell_type": "markdown",
   "metadata": {},
   "source": [
    "We are going to remove exploitable variables for future analysis because such few data points can cause a lot of problems. "
   ]
  },
  {
   "cell_type": "code",
   "execution_count": null,
   "metadata": {
    "ExecuteTime": {
     "end_time": "2017-05-17T06:20:31.938389Z",
     "start_time": "2017-05-17T06:20:31.831288Z"
    },
    "collapsed": true
   },
   "outputs": [],
   "source": [
    "data = data.loc[~data.variable.str.contains('exploitable'),:]"
   ]
  },
  {
   "cell_type": "markdown",
   "metadata": {},
   "source": [
    "#### Deep dive: National rainfall index "
   ]
  },
  {
   "cell_type": "code",
   "execution_count": null,
   "metadata": {
    "ExecuteTime": {
     "end_time": "2017-05-17T06:20:33.688561Z",
     "start_time": "2017-05-17T06:20:31.939911Z"
    },
    "collapsed": true,
    "scrolled": true
   },
   "outputs": [],
   "source": [
    "msno.matrix(variable_slice(data, 'national_rainfall_index'), \n",
    "            inline=False, sort='descending');\n",
    "plt.xlabel('Time period');\n",
    "plt.ylabel('Country');\n",
    "plt.title('Missing national rainfall index data across countries and time periods \\n \\n \\n \\n');"
   ]
  },
  {
   "cell_type": "markdown",
   "metadata": {},
   "source": [
    "National rainfall index is no longer reported on after 2002. "
   ]
  },
  {
   "cell_type": "code",
   "execution_count": null,
   "metadata": {
    "ExecuteTime": {
     "end_time": "2017-05-17T06:20:33.711910Z",
     "start_time": "2017-05-17T06:20:33.690063Z"
    },
    "collapsed": true
   },
   "outputs": [],
   "source": [
    "data = data.loc[~(data.variable=='national_rainfall_index')]"
   ]
  },
  {
   "cell_type": "markdown",
   "metadata": {},
   "source": [
    "### By country"
   ]
  },
  {
   "cell_type": "markdown",
   "metadata": {},
   "source": [
    "Let's look at North America only."
   ]
  },
  {
   "cell_type": "code",
   "execution_count": null,
   "metadata": {
    "ExecuteTime": {
     "end_time": "2017-05-17T06:20:33.729460Z",
     "start_time": "2017-05-17T06:20:33.713892Z"
    },
    "collapsed": true,
    "run_control": {
     "frozen": false,
     "read_only": false
    }
   },
   "outputs": [],
   "source": [
    "north_america = subregion(data, 'North America')"
   ]
  },
  {
   "cell_type": "code",
   "execution_count": null,
   "metadata": {
    "ExecuteTime": {
     "end_time": "2017-05-17T06:20:35.722643Z",
     "start_time": "2017-05-17T06:20:33.731034Z"
    },
    "collapsed": true,
    "run_control": {
     "frozen": false,
     "read_only": false
    }
   },
   "outputs": [],
   "source": [
    "msno.bar(msno.nullity_sort(time_slice(north_america, '2013-2017'), sort='descending').T, inline=False)\n",
    "plt.title('Fraction of fields complete by country for North America \\n \\n');"
   ]
  },
  {
   "cell_type": "markdown",
   "metadata": {},
   "source": [
    "**Question:** Is there any pattern in the countries with most missing data? "
   ]
  },
  {
   "cell_type": "markdown",
   "metadata": {},
   "source": [
    "**Question:** What are potential reasons for missing data? What can we check? "
   ]
  },
  {
   "cell_type": "code",
   "execution_count": null,
   "metadata": {
    "ExecuteTime": {
     "end_time": "2017-05-17T06:20:35.814814Z",
     "start_time": "2017-05-17T06:20:35.724535Z"
    },
    "collapsed": true,
    "run_control": {
     "frozen": false,
     "read_only": false
    }
   },
   "outputs": [],
   "source": [
    "folium.Map(location=[18.1160128,-77.8364762], tiles=\"CartoDB positron\", \n",
    "           zoom_start=5, width=1200, height=600)"
   ]
  },
  {
   "cell_type": "markdown",
   "metadata": {},
   "source": [
    "Spot check what data is missing for the Bahamas to get more granular understanding. "
   ]
  },
  {
   "cell_type": "code",
   "execution_count": null,
   "metadata": {
    "ExecuteTime": {
     "end_time": "2017-05-17T06:20:35.856998Z",
     "start_time": "2017-05-17T06:20:35.816333Z"
    },
    "collapsed": true,
    "scrolled": false
   },
   "outputs": [],
   "source": [
    "msno.nullity_filter(country_slice(data, 'Bahamas').T, filter='bottom', p=0.1)"
   ]
  },
  {
   "cell_type": "markdown",
   "metadata": {},
   "source": [
    "**To do**: Choose another region to assess for missing data."
   ]
  },
  {
   "cell_type": "markdown",
   "metadata": {},
   "source": [
    "### By country for a single variable"
   ]
  },
  {
   "cell_type": "code",
   "execution_count": null,
   "metadata": {
    "ExecuteTime": {
     "end_time": "2017-05-17T06:20:36.165525Z",
     "start_time": "2017-05-17T06:20:35.860227Z"
    },
    "collapsed": true
   },
   "outputs": [],
   "source": [
    "# JSON with coordinates for country boundaries \n",
    "geo = r'../data/aquastat/world.json'\n",
    "\n",
    "null_data = recent['agg_to_gdp'].notnull()*1\n",
    "map = folium.Map(location=[48, -102], zoom_start=2)\n",
    "map.choropleth(geo_path=geo, \n",
    "               data=null_data,\n",
    "               columns=['country', 'agg_to_gdp'],\n",
    "               key_on='feature.properties.name', reset=True,\n",
    "               fill_color='GnBu', fill_opacity=1, line_opacity=0.2,\n",
    "               legend_name='Missing agricultural contribution to GDP data 2013-2017')\n",
    "map"
   ]
  },
  {
   "cell_type": "markdown",
   "metadata": {},
   "source": [
    "**Question:** What does the pale pale green mean? Compared to the green? (E.g. Greenland versus Canada)"
   ]
  },
  {
   "cell_type": "markdown",
   "metadata": {},
   "source": [
    "Now let's functionalize so we can look at other variables geospatially."
   ]
  },
  {
   "cell_type": "code",
   "execution_count": null,
   "metadata": {
    "ExecuteTime": {
     "end_time": "2017-05-17T06:20:36.176256Z",
     "start_time": "2017-05-17T06:20:36.167242Z"
    },
    "collapsed": true
   },
   "outputs": [],
   "source": [
    "def plot_null_map(df, time_period, variable, \n",
    "                  legend_name=None):\n",
    "    geo = r'../data/aquastat/world.json'\n",
    "    \n",
    "    \n",
    "    ts = time_slice(df, time_period).reset_index().copy()\n",
    "    ts[variable]=ts[variable].notnull()*1\n",
    "    map = folium.Map(location=[48, -102], zoom_start=2)\n",
    "    map.choropleth(geo_path=geo, \n",
    "                   data=ts,\n",
    "                   columns=['country', variable],\n",
    "                   key_on='feature.properties.name', reset=True,\n",
    "                   fill_color='GnBu', fill_opacity=1, line_opacity=0.2,\n",
    "                   legend_name=legend_name if legend_name else variable)\n",
    "    return map"
   ]
  },
  {
   "cell_type": "code",
   "execution_count": null,
   "metadata": {
    "ExecuteTime": {
     "end_time": "2017-05-17T06:20:36.563245Z",
     "start_time": "2017-05-17T06:20:36.177904Z"
    },
    "collapsed": true,
    "scrolled": false
   },
   "outputs": [],
   "source": [
    "plot_null_map(data, '2013-2017', 'number_undernourished', 'Number undernourished is missing')"
   ]
  },
  {
   "cell_type": "markdown",
   "metadata": {},
   "source": [
    "**Question:** Are there any patterns in missing data? Any questions that come to mind for further investigation? "
   ]
  },
  {
   "cell_type": "markdown",
   "metadata": {},
   "source": [
    "**To do:** Look at other variables "
   ]
  },
  {
   "cell_type": "markdown",
   "metadata": {},
   "source": [
    "### Over time"
   ]
  },
  {
   "cell_type": "code",
   "execution_count": null,
   "metadata": {
    "ExecuteTime": {
     "end_time": "2017-05-17T06:20:38.818297Z",
     "start_time": "2017-05-17T06:20:36.564606Z"
    },
    "collapsed": true
   },
   "outputs": [],
   "source": [
    "fig, ax = plt.subplots(figsize=(16, 16));\n",
    "sns.heatmap(data.groupby(['time_period','variable']).value.count().unstack().T , ax=ax);\n",
    "plt.xticks(rotation=45);\n",
    "plt.xlabel('Time period');\n",
    "plt.ylabel('Variable');\n",
    "plt.title('Number of countries with data reported for each variable over time');"
   ]
  },
  {
   "cell_type": "markdown",
   "metadata": {},
   "source": [
    "## Profiling "
   ]
  },
  {
   "cell_type": "markdown",
   "metadata": {},
   "source": [
    "Before trying to understand what information is in the data, make sure you understand what the data represents. \n",
    "\n",
    "Sanity check! Do the values make sense? \n",
    "\n",
    "**Things to do:**\n",
    "* Categorical: count, count distinct, assess unique values \n",
    "* Numerical: count, min, max\n",
    "* Spot-check random samples\n",
    "* Slice and dice \n",
    "\n",
    "**Questions to consider:**\n",
    "* Are there frequent values that are default values? \n",
    "* Are there fields that represent the same information? \n",
    "* What timestamp should you use? \n",
    "* Are there numerical values reported as strings? \n",
    "* Are there special values? \n",
    "* Are there variables that are numerical but really should be categorical? \n",
    "* Is data consistent across different operating systems, device type, platforms, countries? \n",
    "* Are there any direct relationships between fields (e.g. a value of x always implies a specific value of y)? \n",
    "* What are the units of measurement? Are they consistent? \n",
    "* Is data consistent across the population and time? \n",
    "* Are there obvious changes in reported data around the time of important events that affect data generation (e.g. version release)?\n",
    "\n",
    "This stage really morphs into the univariate exploration that comes next as you are often diving into each variable one by one and first understanding it, exploring it, then checking that understanding again. We can however do some initial profiling with a few handy python packages."
   ]
  },
  {
   "cell_type": "markdown",
   "metadata": {},
   "source": [
    "### `pivottablejs`"
   ]
  },
  {
   "cell_type": "code",
   "execution_count": null,
   "metadata": {
    "ExecuteTime": {
     "end_time": "2017-05-17T06:20:38.855202Z",
     "start_time": "2017-05-17T06:20:38.820483Z"
    },
    "collapsed": true
   },
   "outputs": [],
   "source": [
    "pivottablejs.pivot_ui(time_slice(data, '2013-2017'),)"
   ]
  },
  {
   "cell_type": "markdown",
   "metadata": {},
   "source": [
    "### `pandas_profiling`"
   ]
  },
  {
   "cell_type": "code",
   "execution_count": null,
   "metadata": {
    "ExecuteTime": {
     "end_time": "2017-05-17T06:20:43.045260Z",
     "start_time": "2017-05-17T06:20:38.856891Z"
    },
    "collapsed": true,
    "scrolled": false
   },
   "outputs": [],
   "source": [
    "pandas_profiling.ProfileReport(time_slice(data, '2013-2017'))"
   ]
  },
  {
   "cell_type": "markdown",
   "metadata": {},
   "source": [
    "### To do: Write down observations from profiling "
   ]
  },
  {
   "cell_type": "markdown",
   "metadata": {},
   "source": [
    "# **To do**: Collect list of questions you have coming out of quality assessment and profiling \n",
    "\n",
    "* Quality concerns to ask the data source\n",
    "* Questions and hypotheses you want to explore further during exploration \n",
    "* Things you need to understand better and would ask a domain expert"
   ]
  },
  {
   "cell_type": "markdown",
   "metadata": {
    "collapsed": true
   },
   "source": [
    "<center><p style=\"text-align:center;font-size:160%\">© <a href=\"http://www.svds.com\">2017 Silicon Valley Data Science LLC</a></p></center>"
   ]
  }
 ],
 "metadata": {
  "kernelspec": {
   "display_name": "Python 3",
   "language": "python",
   "name": "python3"
  },
  "language_info": {
   "codemirror_mode": {
    "name": "ipython",
    "version": 3
   },
   "file_extension": ".py",
   "mimetype": "text/x-python",
   "name": "python",
   "nbconvert_exporter": "python",
   "pygments_lexer": "ipython3",
   "version": "3.6.0"
  },
  "nav_menu": {},
  "toc": {
   "navigate_menu": true,
   "number_sections": false,
   "sideBar": true,
   "threshold": 6,
   "toc_cell": true,
   "toc_section_display": "block",
   "toc_window_display": false
  }
 },
 "nbformat": 4,
 "nbformat_minor": 2
}

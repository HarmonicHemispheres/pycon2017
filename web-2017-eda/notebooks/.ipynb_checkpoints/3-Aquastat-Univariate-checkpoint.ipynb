{
 "cells": [
  {
   "cell_type": "markdown",
   "metadata": {
    "toc": "true"
   },
   "source": [
    "# Table of Contents\n",
    " <p><div class=\"lev1\"><a href=\"#Our-plan\"><span class=\"toc-item-num\">1&nbsp;&nbsp;</span>Our plan</a></div><div class=\"lev1\"><a href=\"#Data-wrangling\"><span class=\"toc-item-num\">2&nbsp;&nbsp;</span>Data wrangling</a></div><div class=\"lev1\"><a href=\"#Exploring-population\"><span class=\"toc-item-num\">3&nbsp;&nbsp;</span>Exploring <em>population</em></a></div><div class=\"lev2\"><a href=\"#Cross-section\"><span class=\"toc-item-num\">3.1&nbsp;&nbsp;</span>Cross-section</a></div><div class=\"lev3\"><a href=\"#Location-and-spread-of-the-data\"><span class=\"toc-item-num\">3.1.1&nbsp;&nbsp;</span>Location and spread of the data</a></div><div class=\"lev3\"><a href=\"#Shape-of-the-data\"><span class=\"toc-item-num\">3.1.2&nbsp;&nbsp;</span>Shape of the data</a></div><div class=\"lev3\"><a href=\"#Skewness-and-kurtosis\"><span class=\"toc-item-num\">3.1.3&nbsp;&nbsp;</span><a href=\"http://www.itl.nist.gov/div898/handbook/eda/section3/eda35b.htm\" target=\"_blank\">Skewness and kurtosis</a></a></div><div class=\"lev3\"><a href=\"#The-trusty-histogram\"><span class=\"toc-item-num\">3.1.4&nbsp;&nbsp;</span>The trusty histogram</a></div><div class=\"lev3\"><a href=\"#Log-transform\"><span class=\"toc-item-num\">3.1.5&nbsp;&nbsp;</span>Log transform</a></div><div class=\"lev3\"><a href=\"#Normalization\"><span class=\"toc-item-num\">3.1.6&nbsp;&nbsp;</span>Normalization</a></div><div class=\"lev2\"><a href=\"#Over-time\"><span class=\"toc-item-num\">3.2&nbsp;&nbsp;</span>Over time</a></div><div class=\"lev3\"><a href=\"#One-country\"><span class=\"toc-item-num\">3.2.1&nbsp;&nbsp;</span>One country</a></div><div class=\"lev3\"><a href=\"#One-region\"><span class=\"toc-item-num\">3.2.2&nbsp;&nbsp;</span>One region</a></div><div class=\"lev2\"><a href=\"#Geospatial-over-time-(Interactive-widgets)\"><span class=\"toc-item-num\">3.3&nbsp;&nbsp;</span>Geospatial over time (Interactive widgets)</a></div><div class=\"lev2\"><a href=\"#Note-on-exploratory-geospatial-data-analysis\"><span class=\"toc-item-num\">3.4&nbsp;&nbsp;</span>Note on exploratory geospatial data analysis</a></div><div class=\"lev2\"><a href=\"#To-do:-Record-questions-that-came-up-during-the-exploration\"><span class=\"toc-item-num\">3.5&nbsp;&nbsp;</span><strong>To do</strong>: Record questions that came up during the exploration</a></div><div class=\"lev1\"><a href=\"#To-do:-Perform-univariate-analysis-on-an-additional-variable.\"><span class=\"toc-item-num\">4&nbsp;&nbsp;</span><strong>To do</strong>: Perform univariate analysis on an additional variable.</a></div><div class=\"lev1\"><a href=\"#Extras\"><span class=\"toc-item-num\">5&nbsp;&nbsp;</span>Extras</a></div><div class=\"lev2\"><a href=\"#Exploring-total-renewable-water-resources\"><span class=\"toc-item-num\">5.1&nbsp;&nbsp;</span>Exploring <em>total renewable water resources</em></a></div><div class=\"lev2\"><a href=\"#Assessing-many-variables\"><span class=\"toc-item-num\">5.2&nbsp;&nbsp;</span>Assessing many variables</a></div>"
   ]
  },
  {
   "cell_type": "code",
   "execution_count": 1,
   "metadata": {
    "ExecuteTime": {
     "end_time": "2017-05-17T06:21:09.856755Z",
     "start_time": "2017-05-17T06:21:08.167712Z"
    },
    "collapsed": true
   },
   "outputs": [],
   "source": [
    "# must go first \n",
    "%matplotlib inline \n",
    "%config InlineBackend.figure_format='retina'\n",
    "\n",
    "# plotting\n",
    "import matplotlib as mpl\n",
    "from matplotlib import pyplot as plt\n",
    "import seaborn as sns\n",
    "sns.set_context(\"poster\", font_scale=1.3)\n",
    "import folium\n",
    "\n",
    "# system packages \n",
    "import os, sys\n",
    "import warnings\n",
    "warnings.filterwarnings('ignore')\n",
    "\n",
    "# basic wrangling \n",
    "import numpy as np\n",
    "import pandas as pd\n",
    "\n",
    "# eda tools \n",
    "import pivottablejs\n",
    "import missingno as msno\n",
    "import pandas_profiling\n",
    "\n",
    "# interactive \n",
    "import ipywidgets as widgets\n",
    "\n",
    "# more technical eda\n",
    "import sklearn\n",
    "import scipy"
   ]
  },
  {
   "cell_type": "code",
   "execution_count": 2,
   "metadata": {
    "ExecuteTime": {
     "end_time": "2017-05-17T06:21:09.860891Z",
     "start_time": "2017-05-17T06:21:09.858249Z"
    },
    "collapsed": true,
    "run_control": {
     "frozen": false,
     "read_only": false
    }
   },
   "outputs": [],
   "source": [
    "sys.path.append('../scripts/')"
   ]
  },
  {
   "cell_type": "code",
   "execution_count": 3,
   "metadata": {
    "ExecuteTime": {
     "end_time": "2017-05-17T06:21:09.867039Z",
     "start_time": "2017-05-17T06:21:09.862761Z"
    },
    "collapsed": true,
    "run_control": {
     "frozen": false,
     "read_only": false
    }
   },
   "outputs": [],
   "source": [
    "from aqua_helper import time_slice, country_slice, time_series, simple_regions, subregion, variable_slice"
   ]
  },
  {
   "cell_type": "code",
   "execution_count": 4,
   "metadata": {
    "ExecuteTime": {
     "end_time": "2017-05-17T06:21:09.874900Z",
     "start_time": "2017-05-17T06:21:09.868408Z"
    },
    "collapsed": true,
    "run_control": {
     "frozen": false,
     "read_only": false
    }
   },
   "outputs": [],
   "source": [
    "mpl_update = {'font.size':16,\n",
    "              'xtick.labelsize':14,\n",
    "              'ytick.labelsize':14,\n",
    "              'figure.figsize':[12.0,8.0],\n",
    "              'axes.color_cycle':['#0055A7', '#2C3E4F', '#26C5ED', '#00cc66', '#D34100', '#FF9700','#091D32'], \n",
    "              'axes.labelsize':16,\n",
    "              'axes.labelcolor':'#677385',\n",
    "              'axes.titlesize':20,\n",
    "              'lines.color':'#0055A7',\n",
    "              'lines.linewidth':3,\n",
    "              'text.color':'#677385'}\n",
    "mpl.rcParams.update(mpl_update)"
   ]
  },
  {
   "cell_type": "markdown",
   "metadata": {},
   "source": [
    "# Our plan\n",
    "\n",
    "<img src=\"figures/branches.jpg\" alt=\"Crisp-DM\" width=\"390\" align=\"right\">\n",
    "Exploratory data analysis consists of the following major tasks, which we present linearly here because each task doesn't make much sense to do without the ones prior to it. However, in reality, you are going to constantly jump around from step to step.  You may want to do all the steps for a subset of the variables first. Or often, an observation will bring up a question you want to investigate and you'll branch off and explore to answer that question before returning down the main path of exhaustive EDA.\n",
    "\n",
    "1. Form hypotheses/develop investigation themes to explore \n",
    "3. Wrangle data \n",
    "3. Assess quality of data \n",
    "4. Profile data\n",
    "5. **Explore each individual variable in the dataset** \n",
    "6. Assess the relationship between each variable and the target \n",
    "7. Assess interactions between variables \n",
    "8. Explore data across many dimensions \n",
    "\n",
    "Throughout the entire analysis you want to:\n",
    "* Capture a list of hypotheses and questions that come up for further exploration.\n",
    "* Record things to watch out for/ be aware of in future analyses. \n",
    "* Show intermediate results to colleagues to get a fresh perspective, feedback, domain knowledge. Don't do EDA in a bubble! Get feedback throughout especially from people removed from the problem and/or with relevant domain knowledge. \n",
    "* Position visuals and results together. EDA relies on your natural pattern recognition abilities so maximize what you'll find by putting visualizations and results in close proximity. \n"
   ]
  },
  {
   "cell_type": "markdown",
   "metadata": {},
   "source": [
    "# Data wrangling "
   ]
  },
  {
   "cell_type": "markdown",
   "metadata": {},
   "source": [
    "http://www.fao.org/nr/water/aquastat/data/query/index.html"
   ]
  },
  {
   "cell_type": "code",
   "execution_count": 5,
   "metadata": {
    "ExecuteTime": {
     "end_time": "2017-05-17T06:21:10.396887Z",
     "start_time": "2017-05-17T06:21:09.876485Z"
    },
    "collapsed": true
   },
   "outputs": [],
   "source": [
    "data = pd.read_csv('../data/aquastat/aquastat.csv.gzip', compression='gzip')\n",
    "\n",
    "# simplify regions\n",
    "data.region = data.region.apply(lambda x: simple_regions[x])\n",
    "\n",
    "# remove exploitable fields and national rainfall index\n",
    "data = data.loc[~data.variable.str.contains('exploitable'),:]\n",
    "data = data.loc[~(data.variable=='national_rainfall_index')]"
   ]
  },
  {
   "cell_type": "markdown",
   "metadata": {},
   "source": [
    "Overview of variables"
   ]
  },
  {
   "cell_type": "code",
   "execution_count": 6,
   "metadata": {
    "ExecuteTime": {
     "end_time": "2017-05-17T06:21:10.427478Z",
     "start_time": "2017-05-17T06:21:10.398316Z"
    },
    "run_control": {
     "frozen": false,
     "read_only": false
    },
    "scrolled": true
   },
   "outputs": [
    {
     "data": {
      "text/html": [
       "<div>\n",
       "<table border=\"1\" class=\"dataframe\">\n",
       "  <thead>\n",
       "    <tr style=\"text-align: right;\">\n",
       "      <th></th>\n",
       "      <th>variable</th>\n",
       "      <th>variable_full</th>\n",
       "    </tr>\n",
       "  </thead>\n",
       "  <tbody>\n",
       "    <tr>\n",
       "      <th>0</th>\n",
       "      <td>total_area</td>\n",
       "      <td>Total area of the country (1000 ha)</td>\n",
       "    </tr>\n",
       "    <tr>\n",
       "      <th>576</th>\n",
       "      <td>arable_land</td>\n",
       "      <td>Arable land area (1000 ha)</td>\n",
       "    </tr>\n",
       "    <tr>\n",
       "      <th>1152</th>\n",
       "      <td>permanent_crop_area</td>\n",
       "      <td>Permanent crops area (1000 ha)</td>\n",
       "    </tr>\n",
       "    <tr>\n",
       "      <th>1728</th>\n",
       "      <td>cultivated_area</td>\n",
       "      <td>Cultivated area (arable land + permanent crops...</td>\n",
       "    </tr>\n",
       "    <tr>\n",
       "      <th>2304</th>\n",
       "      <td>percent_cultivated</td>\n",
       "      <td>% of total country area cultivated (%)</td>\n",
       "    </tr>\n",
       "    <tr>\n",
       "      <th>2880</th>\n",
       "      <td>total_pop</td>\n",
       "      <td>Total population (1000 inhab)</td>\n",
       "    </tr>\n",
       "    <tr>\n",
       "      <th>3456</th>\n",
       "      <td>rural_pop</td>\n",
       "      <td>Rural population (1000 inhab)</td>\n",
       "    </tr>\n",
       "    <tr>\n",
       "      <th>4032</th>\n",
       "      <td>urban_pop</td>\n",
       "      <td>Urban population (1000 inhab)</td>\n",
       "    </tr>\n",
       "    <tr>\n",
       "      <th>4608</th>\n",
       "      <td>gdp</td>\n",
       "      <td>Gross Domestic Product (GDP) (current US$)</td>\n",
       "    </tr>\n",
       "    <tr>\n",
       "      <th>5184</th>\n",
       "      <td>gdp_per_capita</td>\n",
       "      <td>GDP per capita (current US$/inhab)</td>\n",
       "    </tr>\n",
       "    <tr>\n",
       "      <th>5760</th>\n",
       "      <td>agg_to_gdp</td>\n",
       "      <td>Agriculture, value added to GDP (%)</td>\n",
       "    </tr>\n",
       "    <tr>\n",
       "      <th>6336</th>\n",
       "      <td>human_dev_index</td>\n",
       "      <td>Human Development Index (HDI) [highest = 1] (-)</td>\n",
       "    </tr>\n",
       "    <tr>\n",
       "      <th>6912</th>\n",
       "      <td>gender_inequal_index</td>\n",
       "      <td>Gender Inequality Index (GII) [equality = 0; i...</td>\n",
       "    </tr>\n",
       "    <tr>\n",
       "      <th>7488</th>\n",
       "      <td>percent_undernourished</td>\n",
       "      <td>Prevalence of undernourishment (3-year average...</td>\n",
       "    </tr>\n",
       "    <tr>\n",
       "      <th>8064</th>\n",
       "      <td>number_undernourished</td>\n",
       "      <td>Number of people undernourished (3-year averag...</td>\n",
       "    </tr>\n",
       "    <tr>\n",
       "      <th>8640</th>\n",
       "      <td>avg_annual_rain_depth</td>\n",
       "      <td>Long-term average annual precipitation in dept...</td>\n",
       "    </tr>\n",
       "    <tr>\n",
       "      <th>9216</th>\n",
       "      <td>avg_annual_rain_vol</td>\n",
       "      <td>Long-term average annual precipitation in volu...</td>\n",
       "    </tr>\n",
       "    <tr>\n",
       "      <th>10368</th>\n",
       "      <td>surface_water_produced</td>\n",
       "      <td>Surface water produced internally (10^9 m3/year)</td>\n",
       "    </tr>\n",
       "    <tr>\n",
       "      <th>10944</th>\n",
       "      <td>groundwater_produced</td>\n",
       "      <td>Groundwater produced internally (10^9 m3/year)</td>\n",
       "    </tr>\n",
       "    <tr>\n",
       "      <th>11520</th>\n",
       "      <td>surface_groundwater_overlap</td>\n",
       "      <td>Overlap between surface water and groundwater ...</td>\n",
       "    </tr>\n",
       "    <tr>\n",
       "      <th>12096</th>\n",
       "      <td>irwr</td>\n",
       "      <td>Total internal renewable water resources (IRWR...</td>\n",
       "    </tr>\n",
       "    <tr>\n",
       "      <th>12672</th>\n",
       "      <td>irwr_per_capita</td>\n",
       "      <td>Total internal renewable water resources per c...</td>\n",
       "    </tr>\n",
       "    <tr>\n",
       "      <th>13248</th>\n",
       "      <td>surface_entering</td>\n",
       "      <td>Surface water: entering the country (total) (1...</td>\n",
       "    </tr>\n",
       "    <tr>\n",
       "      <th>13824</th>\n",
       "      <td>surface_inflow_submit_no_treaty</td>\n",
       "      <td>Surface water: inflow not submitted to treatie...</td>\n",
       "    </tr>\n",
       "    <tr>\n",
       "      <th>14400</th>\n",
       "      <td>surface_inflow_submit_treaty</td>\n",
       "      <td>Surface water: inflow submitted to treaties (1...</td>\n",
       "    </tr>\n",
       "    <tr>\n",
       "      <th>14976</th>\n",
       "      <td>surface_inflow_secure_treaty</td>\n",
       "      <td>Surface water: inflow secured through treaties...</td>\n",
       "    </tr>\n",
       "    <tr>\n",
       "      <th>15552</th>\n",
       "      <td>total_flow_border_rivers</td>\n",
       "      <td>Surface water: total flow of border rivers (10...</td>\n",
       "    </tr>\n",
       "    <tr>\n",
       "      <th>16128</th>\n",
       "      <td>accounted_flow_border_rivers</td>\n",
       "      <td>Surface water: accounted flow of border rivers...</td>\n",
       "    </tr>\n",
       "    <tr>\n",
       "      <th>16704</th>\n",
       "      <td>accounted_flow</td>\n",
       "      <td>Surface water: accounted inflow (10^9 m3/year)</td>\n",
       "    </tr>\n",
       "    <tr>\n",
       "      <th>17280</th>\n",
       "      <td>surface_to_other_countries</td>\n",
       "      <td>Surface water: leaving the country to other co...</td>\n",
       "    </tr>\n",
       "    <tr>\n",
       "      <th>17856</th>\n",
       "      <td>surface_outflow_submit_no_treaty</td>\n",
       "      <td>Surface water: outflow to other countries not ...</td>\n",
       "    </tr>\n",
       "    <tr>\n",
       "      <th>18432</th>\n",
       "      <td>surface_outflow_submit_treaty</td>\n",
       "      <td>Surface water: outflow to other countries subm...</td>\n",
       "    </tr>\n",
       "    <tr>\n",
       "      <th>19008</th>\n",
       "      <td>surface_outflow_secure_treaty</td>\n",
       "      <td>Surface water: outflow to other countries secu...</td>\n",
       "    </tr>\n",
       "    <tr>\n",
       "      <th>19584</th>\n",
       "      <td>surface_total_external_renewable</td>\n",
       "      <td>Surface water: total external renewable (10^9 ...</td>\n",
       "    </tr>\n",
       "    <tr>\n",
       "      <th>20160</th>\n",
       "      <td>groundwater_entering</td>\n",
       "      <td>Groundwater: entering the country (total) (10^...</td>\n",
       "    </tr>\n",
       "    <tr>\n",
       "      <th>20736</th>\n",
       "      <td>groundwater_accounted_inflow</td>\n",
       "      <td>Groundwater: accounted inflow (10^9 m3/year)</td>\n",
       "    </tr>\n",
       "    <tr>\n",
       "      <th>21312</th>\n",
       "      <td>groundwater_to_other_countries</td>\n",
       "      <td>Groundwater: leaving the country to other coun...</td>\n",
       "    </tr>\n",
       "    <tr>\n",
       "      <th>21888</th>\n",
       "      <td>groundwater_accounted_outflow</td>\n",
       "      <td>Groundwater: accounted outflow to other countr...</td>\n",
       "    </tr>\n",
       "    <tr>\n",
       "      <th>22464</th>\n",
       "      <td>water_total_external_renewable</td>\n",
       "      <td>Water resources: total external renewable (10^...</td>\n",
       "    </tr>\n",
       "    <tr>\n",
       "      <th>23040</th>\n",
       "      <td>total_renewable_surface</td>\n",
       "      <td>Total renewable surface water (10^9 m3/year)</td>\n",
       "    </tr>\n",
       "    <tr>\n",
       "      <th>23616</th>\n",
       "      <td>total_renewable_groundwater</td>\n",
       "      <td>Total renewable groundwater (10^9 m3/year)</td>\n",
       "    </tr>\n",
       "    <tr>\n",
       "      <th>24192</th>\n",
       "      <td>overlap_surface_groundwater</td>\n",
       "      <td>Overlap: between surface water and groundwater...</td>\n",
       "    </tr>\n",
       "    <tr>\n",
       "      <th>24768</th>\n",
       "      <td>total_renewable</td>\n",
       "      <td>Total renewable water resources (10^9 m3/year)</td>\n",
       "    </tr>\n",
       "    <tr>\n",
       "      <th>25344</th>\n",
       "      <td>dependency_ratio</td>\n",
       "      <td>Dependency ratio (%)</td>\n",
       "    </tr>\n",
       "    <tr>\n",
       "      <th>25920</th>\n",
       "      <td>total_renewable_per_capita</td>\n",
       "      <td>Total renewable water resources per capita (m3...</td>\n",
       "    </tr>\n",
       "    <tr>\n",
       "      <th>29376</th>\n",
       "      <td>interannual_variability</td>\n",
       "      <td>Interannual variability (WRI) (-)</td>\n",
       "    </tr>\n",
       "    <tr>\n",
       "      <th>29952</th>\n",
       "      <td>seasonal_variability</td>\n",
       "      <td>Seasonal variability (WRI) (-)</td>\n",
       "    </tr>\n",
       "    <tr>\n",
       "      <th>30528</th>\n",
       "      <td>total_dam_capacity</td>\n",
       "      <td>Total dam capacity (km3)</td>\n",
       "    </tr>\n",
       "    <tr>\n",
       "      <th>31104</th>\n",
       "      <td>dam_capacity_per_capita</td>\n",
       "      <td>Dam capacity per capita (m3/inhab)</td>\n",
       "    </tr>\n",
       "    <tr>\n",
       "      <th>31680</th>\n",
       "      <td>irrigation_potential</td>\n",
       "      <td>Irrigation potential (1000 ha)</td>\n",
       "    </tr>\n",
       "    <tr>\n",
       "      <th>32256</th>\n",
       "      <td>flood_occurence</td>\n",
       "      <td>Flood occurrence (WRI) (-)</td>\n",
       "    </tr>\n",
       "    <tr>\n",
       "      <th>32832</th>\n",
       "      <td>total_pop_access_drinking</td>\n",
       "      <td>Total population with access to safe drinking-...</td>\n",
       "    </tr>\n",
       "    <tr>\n",
       "      <th>33408</th>\n",
       "      <td>rural_pop_access_drinking</td>\n",
       "      <td>Rural population with access to safe drinking-...</td>\n",
       "    </tr>\n",
       "    <tr>\n",
       "      <th>33984</th>\n",
       "      <td>urban_pop_access_drinking</td>\n",
       "      <td>Urban population with access to safe drinking-...</td>\n",
       "    </tr>\n",
       "  </tbody>\n",
       "</table>\n",
       "</div>"
      ],
      "text/plain": [
       "                               variable  \\\n",
       "0                            total_area   \n",
       "576                         arable_land   \n",
       "1152                permanent_crop_area   \n",
       "1728                    cultivated_area   \n",
       "2304                 percent_cultivated   \n",
       "2880                          total_pop   \n",
       "3456                          rural_pop   \n",
       "4032                          urban_pop   \n",
       "4608                                gdp   \n",
       "5184                     gdp_per_capita   \n",
       "5760                         agg_to_gdp   \n",
       "6336                    human_dev_index   \n",
       "6912               gender_inequal_index   \n",
       "7488             percent_undernourished   \n",
       "8064              number_undernourished   \n",
       "8640              avg_annual_rain_depth   \n",
       "9216                avg_annual_rain_vol   \n",
       "10368            surface_water_produced   \n",
       "10944              groundwater_produced   \n",
       "11520       surface_groundwater_overlap   \n",
       "12096                              irwr   \n",
       "12672                   irwr_per_capita   \n",
       "13248                  surface_entering   \n",
       "13824   surface_inflow_submit_no_treaty   \n",
       "14400      surface_inflow_submit_treaty   \n",
       "14976      surface_inflow_secure_treaty   \n",
       "15552          total_flow_border_rivers   \n",
       "16128      accounted_flow_border_rivers   \n",
       "16704                    accounted_flow   \n",
       "17280        surface_to_other_countries   \n",
       "17856  surface_outflow_submit_no_treaty   \n",
       "18432     surface_outflow_submit_treaty   \n",
       "19008     surface_outflow_secure_treaty   \n",
       "19584  surface_total_external_renewable   \n",
       "20160              groundwater_entering   \n",
       "20736      groundwater_accounted_inflow   \n",
       "21312    groundwater_to_other_countries   \n",
       "21888     groundwater_accounted_outflow   \n",
       "22464    water_total_external_renewable   \n",
       "23040           total_renewable_surface   \n",
       "23616       total_renewable_groundwater   \n",
       "24192       overlap_surface_groundwater   \n",
       "24768                   total_renewable   \n",
       "25344                  dependency_ratio   \n",
       "25920        total_renewable_per_capita   \n",
       "29376           interannual_variability   \n",
       "29952              seasonal_variability   \n",
       "30528                total_dam_capacity   \n",
       "31104           dam_capacity_per_capita   \n",
       "31680              irrigation_potential   \n",
       "32256                   flood_occurence   \n",
       "32832         total_pop_access_drinking   \n",
       "33408         rural_pop_access_drinking   \n",
       "33984         urban_pop_access_drinking   \n",
       "\n",
       "                                           variable_full  \n",
       "0                    Total area of the country (1000 ha)  \n",
       "576                           Arable land area (1000 ha)  \n",
       "1152                      Permanent crops area (1000 ha)  \n",
       "1728   Cultivated area (arable land + permanent crops...  \n",
       "2304              % of total country area cultivated (%)  \n",
       "2880                       Total population (1000 inhab)  \n",
       "3456                       Rural population (1000 inhab)  \n",
       "4032                       Urban population (1000 inhab)  \n",
       "4608          Gross Domestic Product (GDP) (current US$)  \n",
       "5184                  GDP per capita (current US$/inhab)  \n",
       "5760                 Agriculture, value added to GDP (%)  \n",
       "6336     Human Development Index (HDI) [highest = 1] (-)  \n",
       "6912   Gender Inequality Index (GII) [equality = 0; i...  \n",
       "7488   Prevalence of undernourishment (3-year average...  \n",
       "8064   Number of people undernourished (3-year averag...  \n",
       "8640   Long-term average annual precipitation in dept...  \n",
       "9216   Long-term average annual precipitation in volu...  \n",
       "10368   Surface water produced internally (10^9 m3/year)  \n",
       "10944     Groundwater produced internally (10^9 m3/year)  \n",
       "11520  Overlap between surface water and groundwater ...  \n",
       "12096  Total internal renewable water resources (IRWR...  \n",
       "12672  Total internal renewable water resources per c...  \n",
       "13248  Surface water: entering the country (total) (1...  \n",
       "13824  Surface water: inflow not submitted to treatie...  \n",
       "14400  Surface water: inflow submitted to treaties (1...  \n",
       "14976  Surface water: inflow secured through treaties...  \n",
       "15552  Surface water: total flow of border rivers (10...  \n",
       "16128  Surface water: accounted flow of border rivers...  \n",
       "16704     Surface water: accounted inflow (10^9 m3/year)  \n",
       "17280  Surface water: leaving the country to other co...  \n",
       "17856  Surface water: outflow to other countries not ...  \n",
       "18432  Surface water: outflow to other countries subm...  \n",
       "19008  Surface water: outflow to other countries secu...  \n",
       "19584  Surface water: total external renewable (10^9 ...  \n",
       "20160  Groundwater: entering the country (total) (10^...  \n",
       "20736       Groundwater: accounted inflow (10^9 m3/year)  \n",
       "21312  Groundwater: leaving the country to other coun...  \n",
       "21888  Groundwater: accounted outflow to other countr...  \n",
       "22464  Water resources: total external renewable (10^...  \n",
       "23040       Total renewable surface water (10^9 m3/year)  \n",
       "23616         Total renewable groundwater (10^9 m3/year)  \n",
       "24192  Overlap: between surface water and groundwater...  \n",
       "24768     Total renewable water resources (10^9 m3/year)  \n",
       "25344                               Dependency ratio (%)  \n",
       "25920  Total renewable water resources per capita (m3...  \n",
       "29376                  Interannual variability (WRI) (-)  \n",
       "29952                     Seasonal variability (WRI) (-)  \n",
       "30528                           Total dam capacity (km3)  \n",
       "31104                 Dam capacity per capita (m3/inhab)  \n",
       "31680                     Irrigation potential (1000 ha)  \n",
       "32256                         Flood occurrence (WRI) (-)  \n",
       "32832  Total population with access to safe drinking-...  \n",
       "33408  Rural population with access to safe drinking-...  \n",
       "33984  Urban population with access to safe drinking-...  "
      ]
     },
     "execution_count": 6,
     "metadata": {},
     "output_type": "execute_result"
    }
   ],
   "source": [
    "data[['variable','variable_full']].drop_duplicates()"
   ]
  },
  {
   "cell_type": "markdown",
   "metadata": {},
   "source": [
    "Subset for cross-sectional analysis"
   ]
  },
  {
   "cell_type": "code",
   "execution_count": 7,
   "metadata": {
    "ExecuteTime": {
     "end_time": "2017-05-17T06:21:10.457612Z",
     "start_time": "2017-05-17T06:21:10.429311Z"
    },
    "collapsed": true
   },
   "outputs": [],
   "source": [
    "recent = time_slice(data, '2013-2017')"
   ]
  },
  {
   "cell_type": "markdown",
   "metadata": {},
   "source": [
    "# Exploring *population*"
   ]
  },
  {
   "cell_type": "markdown",
   "metadata": {},
   "source": [
    "## Cross-section\n",
    "For numerical data, look at: \n",
    "\n",
    "* *Location*: mean, median, mode, interquartile mean \n",
    "* *Spread*: standard deviation, variance, range, interquartile range\n",
    "* *Shape*: skewness, kurtosis "
   ]
  },
  {
   "cell_type": "markdown",
   "metadata": {},
   "source": [
    "### Location and spread of the data\n",
    "\n",
    "Are minimum/maximum values feasible? "
   ]
  },
  {
   "cell_type": "code",
   "execution_count": 8,
   "metadata": {
    "ExecuteTime": {
     "end_time": "2017-05-17T06:21:10.474794Z",
     "start_time": "2017-05-17T06:21:10.459146Z"
    },
    "run_control": {
     "frozen": false,
     "read_only": false
    }
   },
   "outputs": [
    {
     "data": {
      "text/html": [
       "<div>\n",
       "<table border=\"1\" class=\"dataframe\">\n",
       "  <thead>\n",
       "    <tr style=\"text-align: right;\">\n",
       "      <th>2013-2017</th>\n",
       "      <th>total_pop</th>\n",
       "      <th>urban_pop</th>\n",
       "      <th>rural_pop</th>\n",
       "    </tr>\n",
       "  </thead>\n",
       "  <tbody>\n",
       "    <tr>\n",
       "      <th>count</th>\n",
       "      <td>199</td>\n",
       "      <td>199</td>\n",
       "      <td>199</td>\n",
       "    </tr>\n",
       "    <tr>\n",
       "      <th>mean</th>\n",
       "      <td>36890</td>\n",
       "      <td>19849</td>\n",
       "      <td>17040</td>\n",
       "    </tr>\n",
       "    <tr>\n",
       "      <th>std</th>\n",
       "      <td>140720</td>\n",
       "      <td>69681</td>\n",
       "      <td>77461</td>\n",
       "    </tr>\n",
       "    <tr>\n",
       "      <th>min</th>\n",
       "      <td>0</td>\n",
       "      <td>0</td>\n",
       "      <td>-98</td>\n",
       "    </tr>\n",
       "    <tr>\n",
       "      <th>25%</th>\n",
       "      <td>1368</td>\n",
       "      <td>822</td>\n",
       "      <td>500</td>\n",
       "    </tr>\n",
       "    <tr>\n",
       "      <th>50%</th>\n",
       "      <td>7595</td>\n",
       "      <td>3967</td>\n",
       "      <td>2404</td>\n",
       "    </tr>\n",
       "    <tr>\n",
       "      <th>75%</th>\n",
       "      <td>25088</td>\n",
       "      <td>11656</td>\n",
       "      <td>10677</td>\n",
       "    </tr>\n",
       "    <tr>\n",
       "      <th>max</th>\n",
       "      <td>1407306</td>\n",
       "      <td>805387</td>\n",
       "      <td>891112</td>\n",
       "    </tr>\n",
       "  </tbody>\n",
       "</table>\n",
       "</div>"
      ],
      "text/plain": [
       "2013-2017  total_pop  urban_pop  rural_pop\n",
       "count            199        199        199\n",
       "mean           36890      19849      17040\n",
       "std           140720      69681      77461\n",
       "min                0          0        -98\n",
       "25%             1368        822        500\n",
       "50%             7595       3967       2404\n",
       "75%            25088      11656      10677\n",
       "max          1407306     805387     891112"
      ]
     },
     "execution_count": 8,
     "metadata": {},
     "output_type": "execute_result"
    }
   ],
   "source": [
    "recent[['total_pop', 'urban_pop', 'rural_pop']].describe().astype(int)"
   ]
  },
  {
   "cell_type": "markdown",
   "metadata": {},
   "source": [
    "Rural population is negative... what does that mean? "
   ]
  },
  {
   "cell_type": "code",
   "execution_count": 9,
   "metadata": {
    "ExecuteTime": {
     "end_time": "2017-05-17T06:21:10.485255Z",
     "start_time": "2017-05-17T06:21:10.476454Z"
    },
    "run_control": {
     "frozen": false,
     "read_only": false
    }
   },
   "outputs": [
    {
     "data": {
      "text/html": [
       "<div>\n",
       "<table border=\"1\" class=\"dataframe\">\n",
       "  <thead>\n",
       "    <tr style=\"text-align: right;\">\n",
       "      <th>2013-2017</th>\n",
       "      <th>total_pop</th>\n",
       "      <th>urban_pop</th>\n",
       "      <th>rural_pop</th>\n",
       "    </tr>\n",
       "    <tr>\n",
       "      <th>country</th>\n",
       "      <th></th>\n",
       "      <th></th>\n",
       "      <th></th>\n",
       "    </tr>\n",
       "  </thead>\n",
       "  <tbody>\n",
       "    <tr>\n",
       "      <th>Qatar</th>\n",
       "      <td>2235.00</td>\n",
       "      <td>2333.00</td>\n",
       "      <td>-98.00</td>\n",
       "    </tr>\n",
       "    <tr>\n",
       "      <th>Singapore</th>\n",
       "      <td>5604.00</td>\n",
       "      <td>5619.00</td>\n",
       "      <td>-15.00</td>\n",
       "    </tr>\n",
       "    <tr>\n",
       "      <th>Monaco</th>\n",
       "      <td>37.73</td>\n",
       "      <td>38.32</td>\n",
       "      <td>-0.59</td>\n",
       "    </tr>\n",
       "    <tr>\n",
       "      <th>Holy See</th>\n",
       "      <td>0.80</td>\n",
       "      <td>0.80</td>\n",
       "      <td>0.00</td>\n",
       "    </tr>\n",
       "    <tr>\n",
       "      <th>Nauru</th>\n",
       "      <td>10.22</td>\n",
       "      <td>10.12</td>\n",
       "      <td>0.10</td>\n",
       "    </tr>\n",
       "  </tbody>\n",
       "</table>\n",
       "</div>"
      ],
      "text/plain": [
       "2013-2017  total_pop  urban_pop  rural_pop\n",
       "country                                   \n",
       "Qatar        2235.00    2333.00     -98.00\n",
       "Singapore    5604.00    5619.00     -15.00\n",
       "Monaco         37.73      38.32      -0.59\n",
       "Holy See        0.80       0.80       0.00\n",
       "Nauru          10.22      10.12       0.10"
      ]
     },
     "execution_count": 9,
     "metadata": {},
     "output_type": "execute_result"
    }
   ],
   "source": [
    "recent.sort_values('rural_pop')[['total_pop','urban_pop','rural_pop']].head()"
   ]
  },
  {
   "cell_type": "markdown",
   "metadata": {},
   "source": [
    "Visit glossary for dataset: http://www.fao.org/nr/water/aquastat/data/glossary/search.html?termId=4105&submitBtn=s&cls=yes"
   ]
  },
  {
   "cell_type": "markdown",
   "metadata": {},
   "source": [
    "`Rural population = Total population - urban population`"
   ]
  },
  {
   "cell_type": "code",
   "execution_count": 10,
   "metadata": {
    "ExecuteTime": {
     "end_time": "2017-05-17T06:21:10.682425Z",
     "start_time": "2017-05-17T06:21:10.486495Z"
    },
    "run_control": {
     "frozen": false,
     "read_only": false
    }
   },
   "outputs": [
    {
     "data": {
      "text/html": [
       "<div>\n",
       "<table border=\"1\" class=\"dataframe\">\n",
       "  <thead>\n",
       "    <tr style=\"text-align: right;\">\n",
       "      <th></th>\n",
       "      <th>total_pop</th>\n",
       "      <th>urban_pop</th>\n",
       "      <th>rural_pop</th>\n",
       "    </tr>\n",
       "    <tr>\n",
       "      <th>year_measured</th>\n",
       "      <th></th>\n",
       "      <th></th>\n",
       "      <th></th>\n",
       "    </tr>\n",
       "  </thead>\n",
       "  <tbody>\n",
       "    <tr>\n",
       "      <th>1962</th>\n",
       "      <td>56.19</td>\n",
       "      <td>48.39</td>\n",
       "      <td>7.80</td>\n",
       "    </tr>\n",
       "    <tr>\n",
       "      <th>1967</th>\n",
       "      <td>86.16</td>\n",
       "      <td>75.48</td>\n",
       "      <td>10.68</td>\n",
       "    </tr>\n",
       "    <tr>\n",
       "      <th>1972</th>\n",
       "      <td>130.40</td>\n",
       "      <td>115.60</td>\n",
       "      <td>14.80</td>\n",
       "    </tr>\n",
       "    <tr>\n",
       "      <th>1977</th>\n",
       "      <td>182.40</td>\n",
       "      <td>162.40</td>\n",
       "      <td>20.00</td>\n",
       "    </tr>\n",
       "    <tr>\n",
       "      <th>1982</th>\n",
       "      <td>277.20</td>\n",
       "      <td>248.60</td>\n",
       "      <td>28.60</td>\n",
       "    </tr>\n",
       "    <tr>\n",
       "      <th>1987</th>\n",
       "      <td>423.30</td>\n",
       "      <td>385.40</td>\n",
       "      <td>37.90</td>\n",
       "    </tr>\n",
       "    <tr>\n",
       "      <th>1992</th>\n",
       "      <td>489.70</td>\n",
       "      <td>459.10</td>\n",
       "      <td>30.60</td>\n",
       "    </tr>\n",
       "    <tr>\n",
       "      <th>1997</th>\n",
       "      <td>528.20</td>\n",
       "      <td>506.50</td>\n",
       "      <td>21.70</td>\n",
       "    </tr>\n",
       "    <tr>\n",
       "      <th>2002</th>\n",
       "      <td>634.40</td>\n",
       "      <td>608.90</td>\n",
       "      <td>25.50</td>\n",
       "    </tr>\n",
       "    <tr>\n",
       "      <th>2007</th>\n",
       "      <td>1179.00</td>\n",
       "      <td>1130.00</td>\n",
       "      <td>49.00</td>\n",
       "    </tr>\n",
       "    <tr>\n",
       "      <th>2012</th>\n",
       "      <td>2016.00</td>\n",
       "      <td>2029.00</td>\n",
       "      <td>-13.00</td>\n",
       "    </tr>\n",
       "    <tr>\n",
       "      <th>2015</th>\n",
       "      <td>2235.00</td>\n",
       "      <td>2333.00</td>\n",
       "      <td>-98.00</td>\n",
       "    </tr>\n",
       "  </tbody>\n",
       "</table>\n",
       "</div>"
      ],
      "text/plain": [
       "               total_pop  urban_pop  rural_pop\n",
       "year_measured                                 \n",
       "1962               56.19      48.39       7.80\n",
       "1967               86.16      75.48      10.68\n",
       "1972              130.40     115.60      14.80\n",
       "1977              182.40     162.40      20.00\n",
       "1982              277.20     248.60      28.60\n",
       "1987              423.30     385.40      37.90\n",
       "1992              489.70     459.10      30.60\n",
       "1997              528.20     506.50      21.70\n",
       "2002              634.40     608.90      25.50\n",
       "2007             1179.00    1130.00      49.00\n",
       "2012             2016.00    2029.00     -13.00\n",
       "2015             2235.00    2333.00     -98.00"
      ]
     },
     "execution_count": 10,
     "metadata": {},
     "output_type": "execute_result"
    }
   ],
   "source": [
    "time_series(data, 'Qatar', 'total_pop').join(time_series(data, 'Qatar', 'urban_pop')).join(time_series(data, 'Qatar', 'rural_pop'))"
   ]
  },
  {
   "cell_type": "markdown",
   "metadata": {},
   "source": [
    "What to do about non-physical numbers? Remove? Replace with estimates from other sources like the world bank? \n",
    "--> Need to have a clear thought out reason for what you decide to do"
   ]
  },
  {
   "cell_type": "markdown",
   "metadata": {},
   "source": [
    "We should also start suspecting that the data is skewed:\n",
    "* 50% quartile much closer to 25% or 75% in value\n",
    "* Large difference between mean and 50% "
   ]
  },
  {
   "cell_type": "markdown",
   "metadata": {},
   "source": [
    "### Shape of the data\n",
    "* Is the distribution skewed? Bimodal? \n",
    "* Are there outliers? Are they feasible? \n",
    "* Are there discontinuities? "
   ]
  },
  {
   "cell_type": "code",
   "execution_count": null,
   "metadata": {
    "ExecuteTime": {
     "end_time": "2017-05-17T06:21:10.701445Z",
     "start_time": "2017-05-17T06:21:10.683831Z"
    },
    "collapsed": true,
    "run_control": {
     "frozen": false,
     "read_only": false
    }
   },
   "outputs": [],
   "source": [
    "recent[['total_pop', 'urban_pop', 'rural_pop']].describe().astype(int)"
   ]
  },
  {
   "cell_type": "markdown",
   "metadata": {},
   "source": [
    "Yes, it looks like population is skewed. Let's try calculting skewness and kurtosis and plot a histogram to visualize."
   ]
  },
  {
   "cell_type": "markdown",
   "metadata": {},
   "source": [
    "### [Skewness and kurtosis](http://www.itl.nist.gov/div898/handbook/eda/section3/eda35b.htm)\n",
    "\n",
    "*Skewness:* measure of lack of symmetry. \n",
    "\n",
    "*Kurtosis:* measure of whether the data are heavily tailed relative to the normal distribution. "
   ]
  },
  {
   "cell_type": "code",
   "execution_count": null,
   "metadata": {
    "ExecuteTime": {
     "end_time": "2017-05-17T06:21:10.710839Z",
     "start_time": "2017-05-17T06:21:10.703256Z"
    },
    "collapsed": true
   },
   "outputs": [],
   "source": [
    "recent[['total_pop', 'urban_pop', 'rural_pop']].apply(scipy.stats.skew)"
   ]
  },
  {
   "cell_type": "markdown",
   "metadata": {},
   "source": [
    "Skewness for normal distribution should be zero. Negative skewness indicates skew left and positive skewness indicates skew right. "
   ]
  },
  {
   "cell_type": "code",
   "execution_count": null,
   "metadata": {
    "ExecuteTime": {
     "end_time": "2017-05-17T06:21:10.719683Z",
     "start_time": "2017-05-17T06:21:10.712397Z"
    },
    "collapsed": true
   },
   "outputs": [],
   "source": [
    "recent[['total_pop', 'urban_pop', 'rural_pop']].apply(scipy.stats.kurtosis)"
   ]
  },
  {
   "cell_type": "markdown",
   "metadata": {},
   "source": [
    "Kurtosis is also zero for a normal distribution and can only be postiive. We definitely have some outliers! "
   ]
  },
  {
   "cell_type": "markdown",
   "metadata": {},
   "source": [
    "### The trusty histogram"
   ]
  },
  {
   "cell_type": "code",
   "execution_count": null,
   "metadata": {
    "ExecuteTime": {
     "end_time": "2017-05-17T06:21:11.459763Z",
     "start_time": "2017-05-17T06:21:10.721621Z"
    },
    "collapsed": true,
    "run_control": {
     "frozen": false,
     "read_only": false
    }
   },
   "outputs": [],
   "source": [
    "fig, ax = plt.subplots(figsize=(12, 8))\n",
    "ax.hist(recent.total_pop.values, bins=50);\n",
    "ax.set_xlabel('Total population');\n",
    "ax.set_ylabel('Number of countries');\n",
    "ax.set_title('Distribution of population of countries 2013-2017');"
   ]
  },
  {
   "cell_type": "markdown",
   "metadata": {},
   "source": [
    "Let's functionalize this so we can use it again."
   ]
  },
  {
   "cell_type": "markdown",
   "metadata": {},
   "source": [
    "Yup, definitely skewed. Why is this a problem?\n",
    "* Many models assume a normal (bell-like) curve\n",
    "* It is difficult to differentiate observations when skewed (~150/199 look all the same!) \n",
    "\n",
    "Let's look at a map:"
   ]
  },
  {
   "cell_type": "code",
   "execution_count": null,
   "metadata": {
    "ExecuteTime": {
     "end_time": "2017-05-17T06:21:11.477689Z",
     "start_time": "2017-05-17T06:21:11.461318Z"
    },
    "collapsed": true,
    "run_control": {
     "frozen": false,
     "read_only": false
    }
   },
   "outputs": [],
   "source": [
    "# Extending the code we used for plotting nulls geospatially\n",
    "def plot_map(df, variable, time_period=None, log=False, \n",
    "             legend_name=None, threshold_scale=None):\n",
    "    geo = r'../data/aquastat/world.json'\n",
    "    \n",
    "    legend_name = legend_name if legend_name else '%s for %s' % (variable, time_period)\n",
    "    if time_period:\n",
    "        df = time_slice(df, time_period).reset_index()\n",
    "    else: \n",
    "        df = df.reset_index()\n",
    "    \n",
    "    if log:\n",
    "        df[variable] = df[variable].apply(np.log)\n",
    "        \n",
    "    map = folium.Map(location=[34,-45], zoom_start=2,\n",
    "                     width=1200, height=600)\n",
    "    map.choropleth(geo_path=geo, \n",
    "                   data=df,\n",
    "                   columns=['country', variable],\n",
    "                   key_on='feature.properties.name', reset=True,\n",
    "                   fill_color='PuBuGn', fill_opacity=0.7, line_opacity=0.2,\n",
    "                   legend_name=legend_name,\n",
    "                   threshold_scale=threshold_scale)\n",
    "    return map"
   ]
  },
  {
   "cell_type": "code",
   "execution_count": null,
   "metadata": {
    "ExecuteTime": {
     "end_time": "2017-05-17T06:21:11.800799Z",
     "start_time": "2017-05-17T06:21:11.479452Z"
    },
    "collapsed": true,
    "run_control": {
     "frozen": false,
     "read_only": false
    },
    "scrolled": false
   },
   "outputs": [],
   "source": [
    "plot_map(data, 'total_pop', '2013-2017', legend_name='Total population')"
   ]
  },
  {
   "cell_type": "markdown",
   "metadata": {},
   "source": [
    "What is the solution? Often, taking a log transform will make a variable more normal. "
   ]
  },
  {
   "cell_type": "markdown",
   "metadata": {},
   "source": [
    "### Log transform"
   ]
  },
  {
   "cell_type": "markdown",
   "metadata": {},
   "source": [
    "Does taking the log reduce skewness? "
   ]
  },
  {
   "cell_type": "code",
   "execution_count": null,
   "metadata": {
    "ExecuteTime": {
     "end_time": "2017-05-17T06:21:11.810562Z",
     "start_time": "2017-05-17T06:21:11.802680Z"
    },
    "collapsed": true,
    "scrolled": true
   },
   "outputs": [],
   "source": [
    "recent[['total_pop']].apply(np.log).apply(scipy.stats.skew)\n",
    "# recent[['total_pop']].apply(np.log).apply(scipy.stats.skewtest)"
   ]
  },
  {
   "cell_type": "markdown",
   "metadata": {
    "ExecuteTime": {
     "end_time": "2017-05-16T06:16:19.134558Z",
     "start_time": "2017-05-16T06:16:19.127497Z"
    },
    "scrolled": true
   },
   "source": [
    "It does reduce skewness but does not make it disappear. How about kurtosis? "
   ]
  },
  {
   "cell_type": "code",
   "execution_count": null,
   "metadata": {
    "ExecuteTime": {
     "end_time": "2017-05-17T06:21:11.818517Z",
     "start_time": "2017-05-17T06:21:11.811968Z"
    },
    "collapsed": true
   },
   "outputs": [],
   "source": [
    "recent[['total_pop']].apply(np.log).apply(scipy.stats.kurtosis)\n",
    "# recent[['total_pop']].apply(np.log).apply(scipy.stats.kurtosistest)"
   ]
  },
  {
   "cell_type": "markdown",
   "metadata": {},
   "source": [
    "Again, it reduces but does not get rid of kurtosis. "
   ]
  },
  {
   "cell_type": "markdown",
   "metadata": {},
   "source": [
    "Let's look visually at a histogram of the transformed distribution. \n",
    "\n",
    "First, let's functionalize the histogram code from earlier and add in the "
   ]
  },
  {
   "cell_type": "code",
   "execution_count": null,
   "metadata": {
    "ExecuteTime": {
     "end_time": "2017-05-17T06:21:11.842533Z",
     "start_time": "2017-05-17T06:21:11.820042Z"
    },
    "collapsed": true
   },
   "outputs": [],
   "source": [
    "def plot_hist(df, variable, bins=None, xlabel=None, by=None,\n",
    "              ylabel=None, title=None, logx=False, ax=None):\n",
    "\n",
    "    if not ax:\n",
    "        fig, ax = plt.subplots(figsize=(12,8))\n",
    "    if logx:\n",
    "        bins = np.logspace(np.log10(df[variable].min()), np.log10(df[variable].max()), bins)\n",
    "        ax.set_xscale(\"log\")\n",
    "\n",
    "    ax.hist(df[variable].dropna().values, bins=bins);\n",
    "    \n",
    "    if xlabel:\n",
    "        ax.set_xlabel(xlabel);\n",
    "    if ylabel:\n",
    "        ax.set_ylabel(ylabel);\n",
    "    if title:\n",
    "        ax.set_title(title);\n",
    "    \n",
    "    return ax"
   ]
  },
  {
   "cell_type": "code",
   "execution_count": null,
   "metadata": {
    "ExecuteTime": {
     "end_time": "2017-05-17T06:21:13.024015Z",
     "start_time": "2017-05-17T06:21:11.844269Z"
    },
    "collapsed": true
   },
   "outputs": [],
   "source": [
    "plot_hist(recent, 'total_pop', bins=25, logx=True, \n",
    "          xlabel='Log of total population', ylabel='Number of countries',\n",
    "          title='Distribution of total population of countries 2013-2017');"
   ]
  },
  {
   "cell_type": "code",
   "execution_count": null,
   "metadata": {
    "ExecuteTime": {
     "end_time": "2017-05-17T06:21:13.335927Z",
     "start_time": "2017-05-17T06:21:13.026020Z"
    },
    "collapsed": true,
    "run_control": {
     "frozen": false,
     "read_only": false
    },
    "scrolled": false
   },
   "outputs": [],
   "source": [
    "plot_map(data, 'total_pop', '2013-2017', legend_name='Log of total population', log=True)"
   ]
  },
  {
   "cell_type": "markdown",
   "metadata": {},
   "source": [
    "Now we can see more variation across countries."
   ]
  },
  {
   "cell_type": "markdown",
   "metadata": {},
   "source": [
    "We can see larger countries have larger populations - that makes sense... we may hypothesize that water availability may affect countries with higher population _density_ rather than higher absolute populations.  \n",
    "\n",
    "*Normalization* is a critical tool in the data scientist's toolbox and is often used for engineering features."
   ]
  },
  {
   "cell_type": "markdown",
   "metadata": {},
   "source": [
    "### Normalization"
   ]
  },
  {
   "cell_type": "code",
   "execution_count": null,
   "metadata": {
    "ExecuteTime": {
     "end_time": "2017-05-17T06:21:13.341308Z",
     "start_time": "2017-05-17T06:21:13.337591Z"
    },
    "collapsed": true,
    "run_control": {
     "frozen": false,
     "read_only": false
    }
   },
   "outputs": [],
   "source": [
    "recent['population_density'] = recent.total_pop.divide(recent.total_area)"
   ]
  },
  {
   "cell_type": "code",
   "execution_count": null,
   "metadata": {
    "ExecuteTime": {
     "end_time": "2017-05-17T06:21:13.554171Z",
     "start_time": "2017-05-17T06:21:13.342764Z"
    },
    "collapsed": true,
    "run_control": {
     "frozen": false,
     "read_only": false
    },
    "scrolled": false
   },
   "outputs": [],
   "source": [
    "plot_map(recent, 'population_density', legend_name='Population density', \n",
    "         threshold_scale=[0,0.3,0.8, 1.8, 78])"
   ]
  },
  {
   "cell_type": "markdown",
   "metadata": {},
   "source": [
    "## Over time"
   ]
  },
  {
   "cell_type": "markdown",
   "metadata": {},
   "source": [
    "### One country"
   ]
  },
  {
   "cell_type": "markdown",
   "metadata": {},
   "source": [
    "Check a sample we have familiarity with. \n",
    "* Are the units what we think they are? \n",
    "* Does this behavior correspond with our pre-existing knowledge? "
   ]
  },
  {
   "cell_type": "code",
   "execution_count": null,
   "metadata": {
    "ExecuteTime": {
     "end_time": "2017-05-17T06:21:14.285119Z",
     "start_time": "2017-05-17T06:21:13.555868Z"
    },
    "collapsed": true,
    "run_control": {
     "frozen": false,
     "read_only": false
    }
   },
   "outputs": [],
   "source": [
    "plt.plot(time_series(data, 'United States of America', 'total_pop'));\n",
    "plt.xlabel('Year');\n",
    "plt.ylabel('Population');\n",
    "plt.title('United States population over time');\n"
   ]
  },
  {
   "cell_type": "markdown",
   "metadata": {},
   "source": [
    "### One region "
   ]
  },
  {
   "cell_type": "code",
   "execution_count": null,
   "metadata": {
    "ExecuteTime": {
     "end_time": "2017-05-17T06:21:16.521152Z",
     "start_time": "2017-05-17T06:21:14.286690Z"
    },
    "collapsed": true,
    "run_control": {
     "frozen": false,
     "read_only": false
    }
   },
   "outputs": [],
   "source": [
    "with sns.color_palette(sns.diverging_palette(220, 280, s=85, l=25, n=23)):\n",
    "    north_america = time_slice(subregion(data, 'North America'), '1958-1962').sort_values('total_pop').index.tolist()\n",
    "    for country in north_america:\n",
    "        plt.plot(time_series(data, country, 'total_pop'), label=country);\n",
    "        plt.xlabel('Year');\n",
    "        plt.ylabel('Population');\n",
    "        plt.title('North American populations over time');\n",
    "    plt.legend(loc=2,prop={'size':10});\n"
   ]
  },
  {
   "cell_type": "markdown",
   "metadata": {},
   "source": [
    "This doesn't really tell us anything except North America is the biggest country. We'd like to understand how each country's population changes over time, mostly in reference to itself. Let's normalize again. \n",
    "\n",
    "What should we normalize by? We could chose a country's minimum, mean, median, maximum... or any other location.\n",
    "\n",
    "Let's choose minimum so we can see how much each country grows in reference to its starting population. "
   ]
  },
  {
   "cell_type": "code",
   "execution_count": null,
   "metadata": {
    "ExecuteTime": {
     "end_time": "2017-05-17T06:21:18.808286Z",
     "start_time": "2017-05-17T06:21:16.522621Z"
    },
    "collapsed": true,
    "run_control": {
     "frozen": false,
     "read_only": false
    }
   },
   "outputs": [],
   "source": [
    "with sns.color_palette(sns.diverging_palette(220, 280, s=85, l=25, n=23)):\n",
    "    for country in north_america:\n",
    "        ts = time_series(data, country, 'total_pop')\n",
    "        ts['norm_pop'] = ts.total_pop/ts.total_pop.min()*100\n",
    "        plt.plot(ts['norm_pop'], label=country);\n",
    "        plt.xlabel('Year');\n",
    "        plt.ylabel('Percent increase in population');\n",
    "        plt.title('Percent increase in population from 1960 in North American countries');\n",
    "    plt.legend(loc=2,prop={'size':10});\n"
   ]
  },
  {
   "cell_type": "markdown",
   "metadata": {},
   "source": [
    "There are too many lines here!  We should really only have 3-4 lines on a plot to be able to spot patterns. What we can see, however, is that *generally*, larger countries grow faster thatn smaller, with two main exceptions. But, we can't figure out which countries those are. Another option is a heatmap. "
   ]
  },
  {
   "cell_type": "code",
   "execution_count": null,
   "metadata": {
    "ExecuteTime": {
     "end_time": "2017-05-17T06:21:18.832361Z",
     "start_time": "2017-05-17T06:21:18.810257Z"
    },
    "collapsed": true,
    "run_control": {
     "frozen": false,
     "read_only": false
    }
   },
   "outputs": [],
   "source": [
    "north_america_pop = variable_slice(subregion(data, 'North America'), 'total_pop')\n",
    "north_america_norm_pop = north_america_pop.div(north_america_pop.min(axis=1), axis=0)*100\n",
    "north_america_norm_pop = north_america_norm_pop.loc[north_america]"
   ]
  },
  {
   "cell_type": "code",
   "execution_count": null,
   "metadata": {
    "ExecuteTime": {
     "end_time": "2017-05-17T06:21:20.237003Z",
     "start_time": "2017-05-17T06:21:18.833872Z"
    },
    "collapsed": true,
    "run_control": {
     "frozen": false,
     "read_only": false
    },
    "scrolled": false
   },
   "outputs": [],
   "source": [
    "fig, ax = plt.subplots(figsize=(16, 12));\n",
    "sns.heatmap(north_america_norm_pop, ax=ax, cmap=sns.light_palette((214, 90, 60), input=\"husl\", as_cmap=True));\n",
    "plt.xticks(rotation=45);\n",
    "plt.xlabel('Time period');\n",
    "plt.ylabel('Country, ordered by population in 1960 (<- greatest to least ->)');\n",
    "plt.title('Percent increase in population from 1960');\n"
   ]
  },
  {
   "cell_type": "markdown",
   "metadata": {},
   "source": [
    "## Geospatial over time (Interactive widgets) "
   ]
  },
  {
   "cell_type": "markdown",
   "metadata": {},
   "source": [
    "[`ipywidgets`](https://github.com/jupyter-widgets/ipywidgets) allow for you to change variables passed through to a function through some kind of widget, such as a selection slider (below), a drop down menu, or more. \n",
    "\n",
    "To use `ipywidgets` you must: \n",
    "1. Have already run this from the command line: \n",
    " `jupyter nbextension enable --py --sys-prefix widgetsnbextension`\n",
    "2. Define your widget including the possible value options and which value to initialize the widget at. \n",
    "3. Define the function that you want to make interactive. \n",
    "4. Initialize the interaction through `widgets.interact`."
   ]
  },
  {
   "cell_type": "markdown",
   "metadata": {},
   "source": [
    "We perform all these steps within a function so we can reuse it for different variables:"
   ]
  },
  {
   "cell_type": "code",
   "execution_count": null,
   "metadata": {
    "ExecuteTime": {
     "end_time": "2017-05-17T06:21:20.245031Z",
     "start_time": "2017-05-17T06:21:20.238537Z"
    },
    "collapsed": true,
    "run_control": {
     "frozen": false,
     "read_only": false
    }
   },
   "outputs": [],
   "source": [
    "def map_over_time(df, variable, time_periods, log=False, \n",
    "                  threshold_scale=None, legend_name=None):\n",
    "    \n",
    "    time_slider = widgets.SelectionSlider(options=time_periods.tolist(),\n",
    "                                      value=time_periods[0],\n",
    "                                      description='Time period:',\n",
    "                                      disabled=False,\n",
    "                                      button_style='')\n",
    "    widgets.interact(plot_map, df=widgets.fixed(df), \n",
    "                     variable=widgets.fixed(variable),\n",
    "                     time_period=time_slider, log=widgets.fixed(log), \n",
    "                     legend_name=widgets.fixed(legend_name), \n",
    "                     threshold_scale=widgets.fixed(threshold_scale));"
   ]
  },
  {
   "cell_type": "code",
   "execution_count": null,
   "metadata": {
    "ExecuteTime": {
     "end_time": "2017-05-17T06:21:20.253436Z",
     "start_time": "2017-05-17T06:21:20.246634Z"
    },
    "collapsed": true
   },
   "outputs": [],
   "source": [
    "time_periods = data.time_period.unique()"
   ]
  },
  {
   "cell_type": "code",
   "execution_count": null,
   "metadata": {
    "ExecuteTime": {
     "end_time": "2017-05-17T06:21:20.685857Z",
     "start_time": "2017-05-17T06:21:20.255224Z"
    },
    "collapsed": true
   },
   "outputs": [],
   "source": [
    "map_over_time(data, 'total_pop', time_periods, log=True)"
   ]
  },
  {
   "cell_type": "markdown",
   "metadata": {},
   "source": [
    "## Note on exploratory geospatial data analysis\n",
    "\n",
    "Please note, geospatial data analysis is a whole field of its own and we don't begin to do it justice here. There are many technical assumptions for geospatial modeling that we have not looked at as well as number of numerical methods for exploring it. The PySal package is a good package to start with in the field and tutorial can be found [here](http://darribas.org/gds_scipy16/) for introductory geospatial data analysis. "
   ]
  },
  {
   "cell_type": "markdown",
   "metadata": {},
   "source": [
    "## **To do**: Record questions that came up during the exploration"
   ]
  },
  {
   "cell_type": "markdown",
   "metadata": {
    "collapsed": true,
    "run_control": {
     "frozen": false,
     "read_only": false
    }
   },
   "source": [
    "# **To do**: Perform univariate analysis on an additional variable."
   ]
  },
  {
   "cell_type": "markdown",
   "metadata": {},
   "source": [
    "# Extras"
   ]
  },
  {
   "cell_type": "markdown",
   "metadata": {},
   "source": [
    "## Exploring *total renewable water resources*"
   ]
  },
  {
   "cell_type": "code",
   "execution_count": null,
   "metadata": {
    "ExecuteTime": {
     "end_time": "2017-05-17T06:21:21.413937Z",
     "start_time": "2017-05-17T06:21:20.687641Z"
    },
    "collapsed": true,
    "run_control": {
     "frozen": false,
     "read_only": false
    }
   },
   "outputs": [],
   "source": [
    "plot_hist(recent, 'total_renewable', bins=50, \n",
    "          xlabel='Total renewable water resources ($10^9 m^3/yr$)',\n",
    "          ylabel='Number of countries', \n",
    "          title='Distribution of total renewable water resources, 2013-2017');"
   ]
  },
  {
   "cell_type": "code",
   "execution_count": null,
   "metadata": {
    "ExecuteTime": {
     "end_time": "2017-05-17T06:21:22.578593Z",
     "start_time": "2017-05-17T06:21:21.415342Z"
    },
    "collapsed": true,
    "run_control": {
     "frozen": false,
     "read_only": false
    }
   },
   "outputs": [],
   "source": [
    "plot_hist(recent, 'total_renewable', bins=50, \n",
    "          xlabel='Total renewable water resources ($10^9 m^3/yr$)',\n",
    "          ylabel='Number of countries', logx=True,\n",
    "          title='Distribution of total renewable water resources, 2013-2017');"
   ]
  },
  {
   "cell_type": "code",
   "execution_count": null,
   "metadata": {
    "ExecuteTime": {
     "end_time": "2017-05-17T06:21:22.601626Z",
     "start_time": "2017-05-17T06:21:22.580219Z"
    },
    "collapsed": true,
    "run_control": {
     "frozen": false,
     "read_only": false
    }
   },
   "outputs": [],
   "source": [
    "north_america_renew = variable_slice(subregion(data, 'North America'), 'total_renewable')"
   ]
  },
  {
   "cell_type": "code",
   "execution_count": null,
   "metadata": {
    "ExecuteTime": {
     "end_time": "2017-05-17T06:21:23.993937Z",
     "start_time": "2017-05-17T06:21:22.603143Z"
    },
    "collapsed": true,
    "run_control": {
     "frozen": false,
     "read_only": false
    },
    "scrolled": false
   },
   "outputs": [],
   "source": [
    "fig, ax = plt.subplots(figsize=(16, 12));\n",
    "sns.heatmap(north_america_renew, ax=ax, cmap=sns.light_palette((214, 90, 60), input=\"husl\", as_cmap=True));\n",
    "plt.xticks(rotation=45);\n",
    "plt.xlabel('Time period');\n",
    "plt.ylabel('Country, ordered by population in 1960 (<- greatest to least ->)');\n",
    "plt.title('Percent increase in population from 1960');\n"
   ]
  },
  {
   "cell_type": "markdown",
   "metadata": {},
   "source": [
    "Total renewable resources doesn't seem to change over time... let's just check:"
   ]
  },
  {
   "cell_type": "code",
   "execution_count": null,
   "metadata": {
    "ExecuteTime": {
     "end_time": "2017-05-17T06:21:24.011126Z",
     "start_time": "2017-05-17T06:21:23.995522Z"
    },
    "collapsed": true
   },
   "outputs": [],
   "source": [
    "north_america_renew.head()"
   ]
  },
  {
   "cell_type": "markdown",
   "metadata": {},
   "source": [
    "Just to be sure, let's subtract 1958-1962 values from each period and add up the results: "
   ]
  },
  {
   "cell_type": "code",
   "execution_count": null,
   "metadata": {
    "ExecuteTime": {
     "end_time": "2017-05-17T06:21:24.018086Z",
     "start_time": "2017-05-17T06:21:24.012556Z"
    },
    "collapsed": true
   },
   "outputs": [],
   "source": [
    "north_america_renew.sub(north_america_renew.iloc[:,0], axis=0).sum()"
   ]
  },
  {
   "cell_type": "markdown",
   "metadata": {},
   "source": [
    "Does this apply to the rest of the world? "
   ]
  },
  {
   "cell_type": "code",
   "execution_count": null,
   "metadata": {
    "ExecuteTime": {
     "end_time": "2017-05-17T06:21:24.037017Z",
     "start_time": "2017-05-17T06:21:24.019676Z"
    },
    "collapsed": true
   },
   "outputs": [],
   "source": [
    "renew = variable_slice(data, 'total_renewable')"
   ]
  },
  {
   "cell_type": "code",
   "execution_count": null,
   "metadata": {
    "ExecuteTime": {
     "end_time": "2017-05-17T06:21:24.044299Z",
     "start_time": "2017-05-17T06:21:24.038424Z"
    },
    "collapsed": true
   },
   "outputs": [],
   "source": [
    "renew.sub(renew.iloc[:,0], axis=0).sum()"
   ]
  },
  {
   "cell_type": "markdown",
   "metadata": {},
   "source": [
    "Uh oh, looks like not. Let's look at it by country instead: "
   ]
  },
  {
   "cell_type": "code",
   "execution_count": null,
   "metadata": {
    "ExecuteTime": {
     "end_time": "2017-05-17T06:21:24.051482Z",
     "start_time": "2017-05-17T06:21:24.045638Z"
    },
    "collapsed": true
   },
   "outputs": [],
   "source": [
    "renew.sub(renew.iloc[:,0], axis=0).sum(axis=1).sort_values().head()"
   ]
  },
  {
   "cell_type": "markdown",
   "metadata": {},
   "source": [
    "Bhutan changed! But no where else. Let's also check the other end of the sorted list:"
   ]
  },
  {
   "cell_type": "code",
   "execution_count": null,
   "metadata": {
    "ExecuteTime": {
     "end_time": "2017-05-17T06:21:24.060231Z",
     "start_time": "2017-05-17T06:21:24.053179Z"
    },
    "collapsed": true
   },
   "outputs": [],
   "source": [
    "renew.sub(renew.iloc[:,0], axis=0).sum(axis=1).sort_values().tail(50)"
   ]
  },
  {
   "cell_type": "markdown",
   "metadata": {},
   "source": [
    "Oh, we've got NaNs... probably because these countries didn't always exist."
   ]
  },
  {
   "cell_type": "markdown",
   "metadata": {},
   "source": [
    "## Assessing many variables"
   ]
  },
  {
   "cell_type": "code",
   "execution_count": null,
   "metadata": {
    "ExecuteTime": {
     "end_time": "2017-05-17T06:21:24.070898Z",
     "start_time": "2017-05-17T06:21:24.061575Z"
    },
    "collapsed": true
   },
   "outputs": [],
   "source": [
    "def two_hist(df, variable, bins=50,\n",
    "              ylabel='Number of countries', title=None):\n",
    "\n",
    "    fig, (ax1, ax2) = plt.subplots(1, 2, figsize=(18,8))\n",
    "    ax1 = plot_hist(df, variable, bins=bins, \n",
    "                    xlabel=variable, ylabel=ylabel, \n",
    "                    ax=ax1, title=variable if not title else title)\n",
    "    ax2 = plot_hist(df, variable, bins=bins, \n",
    "                    xlabel='Log of '+ variable, ylabel=ylabel, \n",
    "                    logx=True, ax=ax2, \n",
    "                    title='Log of '+ variable if not title else title)\n",
    "    plt.close()\n",
    "    return fig"
   ]
  },
  {
   "cell_type": "code",
   "execution_count": null,
   "metadata": {
    "ExecuteTime": {
     "end_time": "2017-05-17T06:21:24.078214Z",
     "start_time": "2017-05-17T06:21:24.072295Z"
    },
    "collapsed": true
   },
   "outputs": [],
   "source": [
    "def hist_over_var(df, variables, bins=50,\n",
    "                  ylabel='Number of countries', title=None):\n",
    "    \n",
    "    variable_slider = widgets.Dropdown(options=variables.tolist(),\n",
    "                                      value=variables[0],\n",
    "                                      description='Variable:',\n",
    "                                      disabled=False,\n",
    "                                      button_style='')\n",
    "    widgets.interact(two_hist, df=widgets.fixed(df), \n",
    "                     variable=variable_slider, ylabel=widgets.fixed(ylabel),\n",
    "                     title=widgets.fixed(title), bins=widgets.fixed(bins));"
   ]
  },
  {
   "cell_type": "code",
   "execution_count": null,
   "metadata": {
    "ExecuteTime": {
     "end_time": "2017-05-17T06:21:25.439572Z",
     "start_time": "2017-05-17T06:21:24.079566Z"
    },
    "collapsed": true
   },
   "outputs": [],
   "source": [
    "hist_over_var(recent, recent.columns, bins=20)"
   ]
  },
  {
   "cell_type": "markdown",
   "metadata": {
    "collapsed": true,
    "run_control": {
     "frozen": false,
     "read_only": false
    }
   },
   "source": [
    "<center><p style=\"text-align:center;font-size:160%\">© <a href=\"http://www.svds.com\">2017 Silicon Valley Data Science LLC</a></p></center>"
   ]
  }
 ],
 "metadata": {
  "kernelspec": {
   "display_name": "Python 3",
   "language": "python",
   "name": "python3"
  },
  "language_info": {
   "codemirror_mode": {
    "name": "ipython",
    "version": 3
   },
   "file_extension": ".py",
   "mimetype": "text/x-python",
   "name": "python",
   "nbconvert_exporter": "python",
   "pygments_lexer": "ipython3",
   "version": "3.6.0"
  },
  "nav_menu": {},
  "toc": {
   "navigate_menu": true,
   "number_sections": true,
   "sideBar": true,
   "threshold": 6,
   "toc_cell": true,
   "toc_section_display": "block",
   "toc_window_display": false
  }
 },
 "nbformat": 4,
 "nbformat_minor": 2
}

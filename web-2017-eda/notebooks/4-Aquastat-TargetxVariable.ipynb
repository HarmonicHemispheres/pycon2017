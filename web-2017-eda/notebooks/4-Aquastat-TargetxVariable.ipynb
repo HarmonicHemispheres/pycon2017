{
 "cells": [
  {
   "cell_type": "markdown",
   "metadata": {
    "toc": "true"
   },
   "source": [
    "# Table of Contents\n",
    " <p><div class=\"lev1\"><a href=\"#Our-plan\"><span class=\"toc-item-num\">1&nbsp;&nbsp;</span>Our plan</a></div><div class=\"lev1\"><a href=\"#Assessing-the-relationship-between-each-variable-and-the-target\"><span class=\"toc-item-num\">2&nbsp;&nbsp;</span>Assessing the relationship between each variable and the target</a></div><div class=\"lev2\"><a href=\"#Bivariate-plotting\"><span class=\"toc-item-num\">2.1&nbsp;&nbsp;</span>Bivariate plotting</a></div><div class=\"lev1\"><a href=\"#Target:-GDP-per-capita\"><span class=\"toc-item-num\">3&nbsp;&nbsp;</span>Target: GDP per capita</a></div><div class=\"lev2\"><a href=\"#Correlation\"><span class=\"toc-item-num\">3.1&nbsp;&nbsp;</span>Correlation</a></div><div class=\"lev1\"><a href=\"#Target:-GDP-per-capita,-binned\"><span class=\"toc-item-num\">4&nbsp;&nbsp;</span>Target: GDP per capita, binned</a></div><div class=\"lev2\"><a href=\"#Dealing-with-lots-of-variables\"><span class=\"toc-item-num\">4.1&nbsp;&nbsp;</span>Dealing with lots of variables</a></div><div class=\"lev3\"><a href=\"#Ranking-by-f-value\"><span class=\"toc-item-num\">4.1.1&nbsp;&nbsp;</span>Ranking by f-value</a></div><div class=\"lev2\"><a href=\"#To-do:-Gather-observations,-new-hypotheses-and-questions\"><span class=\"toc-item-num\">4.2&nbsp;&nbsp;</span><strong>To do</strong>: Gather observations, new hypotheses and questions</a></div><div class=\"lev1\"><a href=\"#Choose-another-&quot;target-variable&quot;-for-analyzing\"><span class=\"toc-item-num\">5&nbsp;&nbsp;</span>Choose another \"target variable\" for analyzing</a></div><div class=\"lev1\"><a href=\"#Extras\"><span class=\"toc-item-num\">6&nbsp;&nbsp;</span>Extras</a></div><div class=\"lev2\"><a href=\"#Using-correlation-to-focus-analysis-in-datasets-with-large-numbers-of-dimensions.\"><span class=\"toc-item-num\">6.1&nbsp;&nbsp;</span>Using correlation to focus analysis in datasets with large numbers of dimensions.</a></div><div class=\"lev2\"><a href=\"#Ranking-categorical-comboinations-by-normalized-distance-between-bins\"><span class=\"toc-item-num\">6.2&nbsp;&nbsp;</span>Ranking categorical comboinations by normalized distance between bins</a></div><div class=\"lev3\"><a href=\"#Ranking-by-normalized-distance-between-bins\"><span class=\"toc-item-num\">6.2.1&nbsp;&nbsp;</span>Ranking by normalized distance between bins</a></div>"
   ]
  },
  {
   "cell_type": "code",
   "execution_count": null,
   "metadata": {
    "ExecuteTime": {
     "end_time": "2017-05-17T08:50:57.940214Z",
     "start_time": "2017-05-17T08:50:57.789694Z"
    },
    "collapsed": true,
    "run_control": {
     "frozen": false,
     "read_only": false
    }
   },
   "outputs": [],
   "source": [
    "# must go first \n",
    "%matplotlib inline \n",
    "%config InlineBackend.figure_format='retina'\n",
    "\n",
    "# plotting\n",
    "import matplotlib as mpl\n",
    "from matplotlib import pyplot as plt\n",
    "import seaborn as sns\n",
    "sns.set_context(\"poster\", font_scale=1.3)\n",
    "import folium\n",
    "\n",
    "# system packages \n",
    "import os, sys\n",
    "import warnings\n",
    "warnings.filterwarnings('ignore')\n",
    "\n",
    "# basic wrangling \n",
    "import numpy as np\n",
    "import pandas as pd\n",
    "\n",
    "# eda tools \n",
    "import pivottablejs\n",
    "import missingno as msno\n",
    "import pandas_profiling\n",
    "\n",
    "# interactive \n",
    "import ipywidgets as widgets\n",
    "\n",
    "# more technical eda\n",
    "import sklearn\n",
    "import scipy"
   ]
  },
  {
   "cell_type": "code",
   "execution_count": null,
   "metadata": {
    "ExecuteTime": {
     "end_time": "2017-05-17T08:50:57.948614Z",
     "start_time": "2017-05-17T08:50:57.942954Z"
    },
    "collapsed": true,
    "run_control": {
     "frozen": false,
     "read_only": false
    }
   },
   "outputs": [],
   "source": [
    "sys.path.append('../scripts/')\n",
    "\n",
    "from aqua_helper import *"
   ]
  },
  {
   "cell_type": "code",
   "execution_count": null,
   "metadata": {
    "ExecuteTime": {
     "end_time": "2017-05-17T08:50:57.959055Z",
     "start_time": "2017-05-17T08:50:57.950632Z"
    },
    "collapsed": true,
    "run_control": {
     "frozen": false,
     "read_only": false
    }
   },
   "outputs": [],
   "source": [
    "mpl_update = {'font.size':16,\n",
    "              'xtick.labelsize':14,\n",
    "              'ytick.labelsize':14,\n",
    "              'figure.figsize':[12.0,8.0],\n",
    "              'axes.color_cycle':['#0055A7', '#2C3E4F', '#26C5ED', '#00cc66', '#D34100', '#FF9700','#091D32'], \n",
    "              'axes.labelsize':16,\n",
    "              'axes.labelcolor':'#677385',\n",
    "              'axes.titlesize':20,\n",
    "              'lines.color':'#0055A7',\n",
    "              'lines.linewidth':3,\n",
    "              'text.color':'#677385'}\n",
    "mpl.rcParams.update(mpl_update)"
   ]
  },
  {
   "cell_type": "markdown",
   "metadata": {},
   "source": [
    "# Our plan\n",
    "\n",
    "<img src=\"figures/branches.jpg\" alt=\"Crisp-DM\" width=\"390\" align=\"right\">\n",
    "Exploratory data analysis consists of the following major tasks, which we present linearly here because each task doesn't make much sense to do without the ones prior to it. However, in reality, you are going to constantly jump around from step to step.  You may want to do all the steps for a subset of the variables first. Or often, an observation will bring up a question you want to investigate and you'll branch off and explore to answer that question before returning down the main path of exhaustive EDA.\n",
    "\n",
    "1. Form hypotheses/develop investigation themes to explore \n",
    "3. Wrangle data \n",
    "3. Assess quality of data \n",
    "4. Profile data \n",
    "5. Explore each individual variable in the dataset \n",
    "6. **Assess the relationship between each variable and the target** \n",
    "7. Assess interactions between variables \n",
    "8. Explore data across many dimensions \n",
    "\n",
    "Throughout the entire analysis you want to:\n",
    "* Capture a list of hypotheses and questions that come up for further exploration.\n",
    "* Record things to watch out for/ be aware of in future analyses. \n",
    "* Show intermediate results to colleagues to get a fresh perspective, feedback, domain knowledge. Don't do EDA in a bubble! Get feedback throughout especially from people removed from the problem and/or with relevant domain knowledge. \n",
    "* Position visuals and results together. EDA relies on your natural pattern recognition abilities so maximize what you'll find by putting visualizations and results in close proximity. \n"
   ]
  },
  {
   "cell_type": "markdown",
   "metadata": {},
   "source": [
    "# Assessing the relationship between each variable and the target"
   ]
  },
  {
   "cell_type": "markdown",
   "metadata": {},
   "source": [
    "Assess each relationship’s:\n",
    "* Linearity \n",
    "* Direction \n",
    "* Rough size \n",
    "* Strength"
   ]
  },
  {
   "cell_type": "markdown",
   "metadata": {},
   "source": [
    "## Bivariate plotting "
   ]
  },
  {
   "cell_type": "markdown",
   "metadata": {},
   "source": [
    "CATEGORICAL X CATEGORICAL\n",
    "* [Heat map of contingency table](http://seaborn.pydata.org/generated/seaborn.heatmap.html?highlight=heatmap#seaborn.heatmap) \n",
    "* [Multiple bar plots](http://seaborn.pydata.org/tutorial/categorical.html?highlight=bar%20plot#bar-plots) \n",
    "\n",
    "CATEGORICAL X CONTINUOUS \n",
    "* [Box plots](http://seaborn.pydata.org/generated/seaborn.boxplot.html#seaborn.boxplot) of continuous for each category\n",
    "* [Violin plots](http://seaborn.pydata.org/examples/simple_violinplots.html) of continuous distribution for each category\n",
    "* Overlaid [histograms](http://seaborn.pydata.org/tutorial/distributions.html#histograms) (if 3 or less categories)\n",
    "\n",
    "CONTINUOUS X CONTINOUS \n",
    "* [Scatter plots](http://seaborn.pydata.org/examples/marginal_ticks.html?highlight=scatter) \n",
    "* [Hexibin plots](http://seaborn.pydata.org/tutorial/distributions.html#hexbin-plots)\n",
    "* [Joint kernel density estimation plots](http://seaborn.pydata.org/tutorial/distributions.html#kernel-density-estimation)\n",
    "* [Correlation matrix heatmap](http://seaborn.pydata.org/examples/network_correlations.html?highlight=correlation)"
   ]
  },
  {
   "cell_type": "code",
   "execution_count": null,
   "metadata": {
    "ExecuteTime": {
     "end_time": "2017-05-17T08:50:58.590317Z",
     "start_time": "2017-05-17T08:50:57.960704Z"
    },
    "collapsed": true,
    "run_control": {
     "frozen": false,
     "read_only": false
    }
   },
   "outputs": [],
   "source": [
    "data = pd.read_csv('../data/aquastat/aquastat.csv.gzip', compression='gzip')\n",
    "\n",
    "# simplify regions\n",
    "data.region = data.region.apply(lambda x: simple_regions[x])\n",
    "\n",
    "# remove exploitable fields and national rainfall index\n",
    "data = data.loc[~data.variable.str.contains('exploitable'),:]\n",
    "data = data.loc[~(data.variable=='national_rainfall_index')]\n",
    "\n",
    "# Uncomment to print out variable names and explanations\n",
    "# data[['variable','variable_full']].drop_duplicates()\n",
    "\n",
    "# Subset for cross-sectional analysis\n",
    "recent = time_slice(data, '2013-2017')"
   ]
  },
  {
   "cell_type": "markdown",
   "metadata": {},
   "source": [
    "# Target: GDP per capita"
   ]
  },
  {
   "cell_type": "markdown",
   "metadata": {},
   "source": [
    "All of our variables are continuous so this will be a CONTINUOUS X CONTINUOUS analysis. "
   ]
  },
  {
   "cell_type": "code",
   "execution_count": null,
   "metadata": {
    "ExecuteTime": {
     "end_time": "2017-05-17T08:50:59.444030Z",
     "start_time": "2017-05-17T08:50:58.592023Z"
    }
   },
   "outputs": [],
   "source": [
    "# recent.drop('gdp_bin', axis=1).astype(float).plot(x='seasonal_variability',y='gdp_per_capita', kind='scatter');\n",
    "plt.scatter(recent.seasonal_variability, recent.gdp_per_capita)\n",
    "plt.xlabel('Seasonal variability');\n",
    "plt.ylabel('GDP per capita ($USD/person)');"
   ]
  },
  {
   "cell_type": "markdown",
   "metadata": {},
   "source": [
    "Here we functionalize the plot above and add the ability to color each marker (for later). "
   ]
  },
  {
   "cell_type": "code",
   "execution_count": null,
   "metadata": {
    "ExecuteTime": {
     "end_time": "2017-05-17T08:50:59.477695Z",
     "start_time": "2017-05-17T08:50:59.445526Z"
    },
    "collapsed": true
   },
   "outputs": [],
   "source": [
    "def plot_scatter(df, x, y, xlabel=None, ylabel=None, title=None,\n",
    "                 logx=False, logy=False, by=None, ax=None):\n",
    "    if not ax:\n",
    "        fig, ax = plt.subplots(figsize=(12, 10))\n",
    "\n",
    "    colors = mpl.rcParams['axes.prop_cycle'].by_key()['color']\n",
    "    if by:\n",
    "        groups = df.groupby(by)\n",
    "        for j, (name, group) in enumerate(groups):\n",
    "            ax.scatter(group[x], group[y], color=colors[j], label=name)\n",
    "        ax.legend()\n",
    "    else:\n",
    "        ax.scatter(df[x], df[y], color=colors[0])\n",
    "    if logx:\n",
    "        ax.set_xscale('log')\n",
    "    if logy:\n",
    "        ax.set_yscale('log')\n",
    "\n",
    "    ax.set_xlabel(xlabel if xlabel else x);\n",
    "    ax.set_ylabel(ylabel if ylabel else y);\n",
    "    if title:\n",
    "        ax.set_title(title);\n",
    "    return ax"
   ]
  },
  {
   "cell_type": "code",
   "execution_count": null,
   "metadata": {
    "ExecuteTime": {
     "end_time": "2017-05-17T08:50:59.502473Z",
     "start_time": "2017-05-17T08:50:59.496088Z"
    },
    "collapsed": true
   },
   "outputs": [],
   "source": [
    "svr = [recent.seasonal_variability.min(), recent.seasonal_variability.max()]\n",
    "gdpr = [(recent.gdp_per_capita.min()), recent.gdp_per_capita.max()] \n",
    "gdpbins = np.logspace(*np.log10(gdpr), 25)"
   ]
  },
  {
   "cell_type": "code",
   "execution_count": null,
   "metadata": {
    "ExecuteTime": {
     "end_time": "2017-05-17T08:51:00.257982Z",
     "start_time": "2017-05-17T08:50:59.504517Z"
    }
   },
   "outputs": [],
   "source": [
    "g =sns.JointGrid(x=\"seasonal_variability\", y=\"gdp_per_capita\", data=recent, ylim=gdpr)\n",
    "g.ax_marg_x.hist(recent.seasonal_variability, range=svr)\n",
    "g.ax_marg_y.hist(recent.gdp_per_capita, range=gdpr, bins=gdpbins, orientation=\"horizontal\")\n",
    "g.plot_joint(plt.hexbin, gridsize=25)\n",
    "ax = g.ax_joint\n",
    "# ax.set_yscale('log')\n",
    "g.fig.set_figheight(8)\n",
    "g.fig.set_figwidth(9)"
   ]
  },
  {
   "cell_type": "code",
   "execution_count": null,
   "metadata": {
    "ExecuteTime": {
     "end_time": "2017-05-17T08:51:01.349561Z",
     "start_time": "2017-05-17T08:51:00.259523Z"
    }
   },
   "outputs": [],
   "source": [
    "g =sns.JointGrid(x=\"seasonal_variability\", y=\"gdp_per_capita\", data=recent, ylim=gdpr)\n",
    "g.ax_marg_x.hist(recent.seasonal_variability, range=svr)\n",
    "g.ax_marg_y.hist(recent.gdp_per_capita, range=gdpr, bins=gdpbins, orientation=\"horizontal\")\n",
    "g.plot_joint(plt.scatter)\n",
    "ax = g.ax_joint\n",
    "ax.set_yscale('log')\n",
    "g.fig.set_figheight(8)\n",
    "g.fig.set_figwidth(9)"
   ]
  },
  {
   "cell_type": "markdown",
   "metadata": {},
   "source": [
    "## Correlation"
   ]
  },
  {
   "cell_type": "markdown",
   "metadata": {},
   "source": [
    "Correlation measures the strength of a *linear relationship* between two variables. We could use correlation to identify the variables to look at first. But what if the relationship is not linear? "
   ]
  },
  {
   "cell_type": "markdown",
   "metadata": {},
   "source": [
    "For linear, `gdp~variable`: "
   ]
  },
  {
   "cell_type": "code",
   "execution_count": null,
   "metadata": {
    "ExecuteTime": {
     "end_time": "2017-05-17T08:51:01.356860Z",
     "start_time": "2017-05-17T08:51:01.351091Z"
    },
    "collapsed": true
   },
   "outputs": [],
   "source": [
    "recent_corr = recent.corr().loc['gdp_per_capita'].drop(['gdp','gdp_per_capita'])"
   ]
  },
  {
   "cell_type": "code",
   "execution_count": null,
   "metadata": {
    "ExecuteTime": {
     "end_time": "2017-05-17T08:51:01.387567Z",
     "start_time": "2017-05-17T08:51:01.358390Z"
    },
    "collapsed": true
   },
   "outputs": [],
   "source": [
    "def conditional_bar(series, bar_colors=None, color_labels=None, figsize=(13,24),\n",
    "                   xlabel=None, by=None, ylabel=None, title=None):\n",
    "    fig, ax  = plt.subplots(figsize=figsize)\n",
    "    if not bar_colors:\n",
    "        bar_colors = mpl.rcParams['axes.prop_cycle'].by_key()['color'][0]\n",
    "    plt.barh(range(len(series)),series.values, color=bar_colors)\n",
    "    plt.xlabel('' if not xlabel else xlabel);\n",
    "    plt.ylabel('' if not ylabel else ylabel)\n",
    "    plt.yticks(range(len(series)), series.index.tolist())\n",
    "    plt.title('' if not title else title);\n",
    "    plt.ylim([-1,len(series)]);\n",
    "    if color_labels:\n",
    "        for col, lab in color_labels.items():\n",
    "            plt.plot([], linestyle='',marker='s',c=col, label= lab);\n",
    "        lines, labels = ax.get_legend_handles_labels();\n",
    "        ax.legend(lines[-len(color_labels.keys()):], labels[-len(color_labels.keys()):], loc='upper right');\n",
    "    plt.close()\n",
    "    return fig"
   ]
  },
  {
   "cell_type": "code",
   "execution_count": null,
   "metadata": {
    "ExecuteTime": {
     "end_time": "2017-05-17T08:51:03.419695Z",
     "start_time": "2017-05-17T08:51:01.389306Z"
    },
    "scrolled": false
   },
   "outputs": [],
   "source": [
    "bar_colors = ['#0055A7' if x else '#2C3E4F' for x in list(recent_corr.values < 0)]\n",
    "color_labels = {'#0055A7':'Negative correlation', '#2C3E4F':'Positive correlation'}\n",
    "\n",
    "conditional_bar(recent_corr.apply(np.abs), bar_colors, color_labels,\n",
    "               title='Magnitude of correlation with GDP per capita, 2013-2017',\n",
    "               xlabel='|Correlation|')"
   ]
  },
  {
   "cell_type": "markdown",
   "metadata": {},
   "source": [
    "# Target: GDP per capita, binned\n"
   ]
  },
  {
   "cell_type": "markdown",
   "metadata": {},
   "source": [
    "While correlation is useful for assessing  relationships, it is limited to only *linear* relationships. As we have seen though, there seem to be many non-linear relationships. We could assess correlation for log transformed variables (see the extras below), but we still may have non-linear relationships. One way to address this is to bin variables into categories and look at the distribution of other variables for each category. "
   ]
  },
  {
   "cell_type": "code",
   "execution_count": null,
   "metadata": {
    "ExecuteTime": {
     "end_time": "2017-05-17T08:51:03.985832Z",
     "start_time": "2017-05-17T08:51:03.421434Z"
    }
   },
   "outputs": [],
   "source": [
    "plot_hist(recent, 'gdp_per_capita', xlabel='GDP per capita ($)', \n",
    "         ylabel='Number of countries', \n",
    "          title='Distribution of GDP per capita, 2013-2017');"
   ]
  },
  {
   "cell_type": "code",
   "execution_count": null,
   "metadata": {
    "ExecuteTime": {
     "end_time": "2017-05-17T08:51:04.882437Z",
     "start_time": "2017-05-17T08:51:03.987414Z"
    }
   },
   "outputs": [],
   "source": [
    "plot_hist(recent, 'gdp_per_capita', xlabel='GDP per capita ($)', logx=True, \n",
    "         ylabel='Number of countries', bins=25,\n",
    "          title='Distribution of log GDP per capita, 2013-2017');"
   ]
  },
  {
   "cell_type": "markdown",
   "metadata": {},
   "source": [
    "The distribution of log gdp per capita is closer to a uniform distribution. It's also sometimes easier to identify patterns if we bin our continuous variables and look at the observations in groups to spot differences. \n",
    "\n",
    "We may then want to break GDP per capita into bins. "
   ]
  },
  {
   "cell_type": "markdown",
   "metadata": {},
   "source": [
    "Let's look at `gdp_per_capita` binned into quintiles. "
   ]
  },
  {
   "cell_type": "code",
   "execution_count": null,
   "metadata": {
    "ExecuteTime": {
     "end_time": "2017-05-17T08:51:04.890705Z",
     "start_time": "2017-05-17T08:51:04.883930Z"
    },
    "collapsed": true
   },
   "outputs": [],
   "source": [
    "capita_bins = ['Very low', 'Low', 'Medium', 'High', 'Very high']\n",
    "recent['gdp_bin'] = pd.qcut(recent.gdp_per_capita, 5, capita_bins)\n",
    "bin_ranges = pd.qcut(recent.gdp_per_capita, 5).unique()"
   ]
  },
  {
   "cell_type": "markdown",
   "metadata": {},
   "source": [
    "Let's take our histogram function from before and add in the ability to color by category. "
   ]
  },
  {
   "cell_type": "code",
   "execution_count": null,
   "metadata": {
    "ExecuteTime": {
     "end_time": "2017-05-17T08:53:39.561952Z",
     "start_time": "2017-05-17T08:53:39.516910Z"
    },
    "collapsed": true
   },
   "outputs": [],
   "source": [
    "def plot_hist(df, variable, bins=None, xlabel=None, by=None,\n",
    "              ylabel=None, title=None, logx=False, ax=None):\n",
    "    if not ax:\n",
    "        fig, ax = plt.subplots(figsize=(12, 8))\n",
    "    if logx:\n",
    "        bins = np.logspace(np.log10(df[variable].min()),\n",
    "                           np.log10(df[variable].max()), bins)\n",
    "        ax.set_xscale(\"log\")\n",
    "\n",
    "    if by:\n",
    "        if type(df[by].unique()) == pd.core.categorical.Categorical:\n",
    "            cats = df[by].unique().categories.tolist()\n",
    "        else:\n",
    "            cats = df[by].unique().tolist()\n",
    "\n",
    "        for cat in cats:\n",
    "            to_plot = df[df[by] == cat][variable].dropna()\n",
    "            ax.hist(to_plot, bins=bins);\n",
    "    else:\n",
    "        ax.hist(df[variable].dropna().values, bins=bins);\n",
    "\n",
    "    if xlabel:\n",
    "        ax.set_xlabel(xlabel);\n",
    "    if ylabel:\n",
    "        ax.set_ylabel(ylabel);\n",
    "    if title:\n",
    "        ax.set_title(title);\n",
    "\n",
    "    return ax"
   ]
  },
  {
   "cell_type": "code",
   "execution_count": null,
   "metadata": {
    "ExecuteTime": {
     "end_time": "2017-05-17T08:53:40.660242Z",
     "start_time": "2017-05-17T08:53:39.563554Z"
    }
   },
   "outputs": [],
   "source": [
    "plot_hist(recent, 'gdp_per_capita', xlabel='GDP per capita ($)', logx=True, \n",
    "         ylabel='Number of countries', bins=25, by='gdp_bin',\n",
    "          title='Distribution of log GDP per capita, 2013-2017')"
   ]
  },
  {
   "cell_type": "markdown",
   "metadata": {},
   "source": [
    "Now we have a CATEGORICAL X CONTINUOUS analysis. Let's look at the distribution of a few variables for each gdp group. "
   ]
  },
  {
   "cell_type": "code",
   "execution_count": null,
   "metadata": {
    "ExecuteTime": {
     "end_time": "2017-05-17T08:53:41.346595Z",
     "start_time": "2017-05-17T08:53:40.661761Z"
    }
   },
   "outputs": [],
   "source": [
    "recent[['gdp_bin','total_pop_access_drinking']].boxplot(by='gdp_bin');\n",
    "# plt.ylim([0,100000]);\n",
    "plt.title('Distribution of percent of total population with access to drinking water across gdp per capita categories');\n",
    "plt.xlabel('GDP per capita quintile');\n",
    "plt.ylabel('Total population of country');"
   ]
  },
  {
   "cell_type": "code",
   "execution_count": null,
   "metadata": {
    "ExecuteTime": {
     "end_time": "2017-05-17T08:53:41.357558Z",
     "start_time": "2017-05-17T08:53:41.348038Z"
    },
    "collapsed": true
   },
   "outputs": [],
   "source": [
    "def mult_boxplots(df, variable, category, \n",
    "                  xlabel=None, ylabel=None, title=None,\n",
    "                  ylim=None):\n",
    "    df[[variable, category]].boxplot(by=category);\n",
    "    \n",
    "    if xlabel:\n",
    "        plt.xlabel(xlabel);\n",
    "    if ylabel:\n",
    "        plt.ylabel(ylabel);\n",
    "    if title:\n",
    "        plt.title(title);\n",
    "    if ylim:\n",
    "        plt.ylim(ylim);"
   ]
  },
  {
   "cell_type": "code",
   "execution_count": null,
   "metadata": {
    "ExecuteTime": {
     "end_time": "2017-05-17T08:53:41.975214Z",
     "start_time": "2017-05-17T08:53:41.359442Z"
    }
   },
   "outputs": [],
   "source": [
    "mult_boxplots(recent, 'flood_occurence', 'gdp_bin',\n",
    "             xlabel='GDP per capita quintile')"
   ]
  },
  {
   "cell_type": "markdown",
   "metadata": {},
   "source": [
    "## Dealing with lots of variables"
   ]
  },
  {
   "cell_type": "markdown",
   "metadata": {},
   "source": [
    "We have a lot of variables - which should we look at? "
   ]
  },
  {
   "cell_type": "markdown",
   "metadata": {},
   "source": [
    "### Ranking by f-value\n",
    "\n",
    "**Note**, assumptions of f-test are not necessarily valid but we are only using this as a guide for which variables to look at first, not to reject a hypothesis"
   ]
  },
  {
   "cell_type": "code",
   "execution_count": null,
   "metadata": {
    "ExecuteTime": {
     "end_time": "2017-05-17T08:53:42.148248Z",
     "start_time": "2017-05-17T08:53:41.976740Z"
    },
    "collapsed": true
   },
   "outputs": [],
   "source": [
    "cat = 'gdp_bin'\n",
    "cat_no_bin = 'gdp_per_capita'\n",
    "fps = []\n",
    "for var in recent.columns.tolist():\n",
    "    if var != cat and var != cat_no_bin:\n",
    "        gb = recent[[var, cat]].dropna().groupby(cat)\n",
    "        f, p = scipy.stats.f_oneway(*gb[var].apply(list).values.tolist())\n",
    "        fps.append([var, f, p])    \n",
    "\n",
    "fps = pd.DataFrame(fps, columns=['variable','f','p']).sort_values('f', ascending=False)"
   ]
  },
  {
   "cell_type": "code",
   "execution_count": null,
   "metadata": {
    "ExecuteTime": {
     "end_time": "2017-05-17T08:53:42.159167Z",
     "start_time": "2017-05-17T08:53:42.149928Z"
    }
   },
   "outputs": [],
   "source": [
    "fps.head()"
   ]
  },
  {
   "cell_type": "code",
   "execution_count": null,
   "metadata": {
    "ExecuteTime": {
     "end_time": "2017-05-17T08:53:48.653724Z",
     "start_time": "2017-05-17T08:53:42.160610Z"
    },
    "scrolled": false
   },
   "outputs": [],
   "source": [
    "n = 10\n",
    "for var in fps.variable.tolist()[:n]:\n",
    "    mult_boxplots(recent, var, cat)"
   ]
  },
  {
   "cell_type": "markdown",
   "metadata": {},
   "source": [
    "## **To do**: Gather observations, new hypotheses and questions"
   ]
  },
  {
   "cell_type": "markdown",
   "metadata": {},
   "source": [
    "# Choose another \"target variable\" for analyzing "
   ]
  },
  {
   "cell_type": "code",
   "execution_count": null,
   "metadata": {
    "collapsed": true
   },
   "outputs": [],
   "source": []
  },
  {
   "cell_type": "markdown",
   "metadata": {
    "collapsed": true
   },
   "source": [
    "<center><p style=\"text-align:center;font-size:160%\">© <a href=\"http://www.svds.com\">2017 Silicon Valley Data Science LLC</a></p></center>"
   ]
  }
 ],
 "metadata": {
  "kernelspec": {
   "display_name": "Python 3",
   "language": "python",
   "name": "python3"
  },
  "language_info": {
   "codemirror_mode": {
    "name": "ipython",
    "version": 3
   },
   "file_extension": ".py",
   "mimetype": "text/x-python",
   "name": "python",
   "nbconvert_exporter": "python",
   "pygments_lexer": "ipython3",
   "version": "3.6.1"
  },
  "nav_menu": {},
  "toc": {
   "navigate_menu": true,
   "number_sections": true,
   "sideBar": true,
   "threshold": 6,
   "toc_cell": true,
   "toc_section_display": "block",
   "toc_window_display": false
  }
 },
 "nbformat": 4,
 "nbformat_minor": 2
}

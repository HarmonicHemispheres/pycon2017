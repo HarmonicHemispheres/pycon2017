{
 "cells": [
  {
   "cell_type": "markdown",
   "metadata": {
    "toc": "true"
   },
   "source": [
    "# Table of Contents\n",
    " <p><div class=\"lev1\"><a href=\"#The-plan\"><span class=\"toc-item-num\">1&nbsp;&nbsp;</span>The plan</a></div><div class=\"lev1\"><a href=\"#Re-Wrangling\"><span class=\"toc-item-num\">2&nbsp;&nbsp;</span>Re-Wrangling</a></div><div class=\"lev1\"><a href=\"#All-the-variables\"><span class=\"toc-item-num\">3&nbsp;&nbsp;</span>All the variables</a></div><div class=\"lev1\"><a href=\"#Bivariate-visualizations-of-each-combination-of-variables\"><span class=\"toc-item-num\">4&nbsp;&nbsp;</span>Bivariate visualizations of each combination of variables</a></div><div class=\"lev1\"><a href=\"#Pair-plots\"><span class=\"toc-item-num\">5&nbsp;&nbsp;</span>Pair plots</a></div>"
   ]
  },
  {
   "cell_type": "code",
   "execution_count": null,
   "metadata": {
    "ExecuteTime": {
     "end_time": "2017-05-17T06:30:25.947130Z",
     "start_time": "2017-05-17T06:30:24.261929Z"
    },
    "collapsed": true,
    "run_control": {
     "frozen": false,
     "read_only": false
    }
   },
   "outputs": [],
   "source": [
    "# must go first \n",
    "%matplotlib inline \n",
    "%config InlineBackend.figure_format='retina'\n",
    "\n",
    "# plotting\n",
    "import matplotlib as mpl\n",
    "from matplotlib import pyplot as plt\n",
    "import seaborn as sns\n",
    "sns.set_context(\"poster\", font_scale=1.3)\n",
    "import folium\n",
    "\n",
    "# system packages \n",
    "import os, sys\n",
    "import warnings\n",
    "warnings.filterwarnings('ignore')\n",
    "\n",
    "# basic wrangling \n",
    "import numpy as np\n",
    "import pandas as pd\n",
    "\n",
    "# eda tools \n",
    "import pivottablejs\n",
    "import missingno as msno\n",
    "import pandas_profiling\n",
    "\n",
    "# interactive \n",
    "import ipywidgets as widgets\n",
    "\n",
    "# more technical eda\n",
    "import sklearn\n",
    "import scipy"
   ]
  },
  {
   "cell_type": "code",
   "execution_count": null,
   "metadata": {
    "ExecuteTime": {
     "end_time": "2017-05-17T06:30:25.953301Z",
     "start_time": "2017-05-17T06:30:25.948752Z"
    },
    "collapsed": true,
    "run_control": {
     "frozen": false,
     "read_only": false
    }
   },
   "outputs": [],
   "source": [
    "sys.path.append('../scripts/')\n",
    "\n",
    "from aqua_helper import *"
   ]
  },
  {
   "cell_type": "code",
   "execution_count": null,
   "metadata": {
    "ExecuteTime": {
     "end_time": "2017-05-17T06:30:25.962037Z",
     "start_time": "2017-05-17T06:30:25.954974Z"
    },
    "collapsed": true,
    "run_control": {
     "frozen": false,
     "read_only": false
    }
   },
   "outputs": [],
   "source": [
    "mpl_update = {'font.size':16,\n",
    "              'xtick.labelsize':14,\n",
    "              'ytick.labelsize':14,\n",
    "              'figure.figsize':[12.0,8.0],\n",
    "              'axes.color_cycle':['#0055A7', '#2C3E4F', '#26C5ED', '#00cc66', '#D34100', '#FF9700','#091D32'], \n",
    "              'axes.labelsize':16,\n",
    "              'axes.labelcolor':'#677385',\n",
    "              'axes.titlesize':20,\n",
    "              'lines.color':'#0055A7',\n",
    "              'lines.linewidth':3,\n",
    "              'text.color':'#677385'}\n",
    "mpl.rcParams.update(mpl_update)"
   ]
  },
  {
   "cell_type": "markdown",
   "metadata": {},
   "source": [
    "# The plan "
   ]
  },
  {
   "cell_type": "markdown",
   "metadata": {},
   "source": [
    "Exploratory data analysis consists of the following major tasks, which we present linearly here because each task doesn't make much sense to do without the ones prior to it. However, in reality, you are going to constantly jump around from step to step. You may want to do all the steps for a subset of the variables first or you might jump back because you learned something and need to have another look. \n",
    "\n",
    "1. Form hypotheses/develop investigation themes to explore \n",
    "3. Wrangle data \n",
    "3. Assess quality of data \n",
    "4. Profile data \n",
    "5. Explore each individual variable in the dataset \n",
    "6. Assess the relationship between each variable and the target \n",
    "7. **Assess interactions between variables** \n",
    "8. Explore data across many dimensions \n",
    "\n",
    "Throughout the entire analysis you want to:\n",
    "* Capture a list of hypotheses and questions that come up for further exploration.\n",
    "* Record things to watch out for/ be aware of in future analyses. \n",
    "* Show intermediate results to colleagues to get a fresh perspective, feedback, domain knowledge. Don't do EDA in a bubble! Get feedback throughout especially from people removed from the problem and/or with relevant domain knowledge. \n",
    "* Position visuals and results together. EDA relies on your natural pattern recognition abilities so maximize what you'll find by putting visualizations and results in close proximity. \n"
   ]
  },
  {
   "cell_type": "markdown",
   "metadata": {},
   "source": [
    "# Re-Wrangling "
   ]
  },
  {
   "cell_type": "code",
   "execution_count": null,
   "metadata": {
    "ExecuteTime": {
     "end_time": "2017-05-17T06:30:26.489704Z",
     "start_time": "2017-05-17T06:30:25.963586Z"
    },
    "collapsed": true
   },
   "outputs": [],
   "source": [
    "data = pd.read_csv('../data/aquastat/aquastat.csv.gzip', compression='gzip')\n",
    "\n",
    "# simplify regions\n",
    "data.region = data.region.apply(lambda x: simple_regions[x])\n",
    "\n",
    "# remove exploitable fields and national rainfall index\n",
    "data = data.loc[~data.variable.str.contains('exploitable'),:]\n",
    "data = data.loc[~(data.variable=='national_rainfall_index')]\n",
    "\n",
    "# Uncomment to print out variable names and explanations\n",
    "# data[['variable','variable_full']].drop_duplicates()\n",
    "\n",
    "# Subset for cross-sectional analysis\n",
    "recent = time_slice(data, '2013-2017')"
   ]
  },
  {
   "cell_type": "markdown",
   "metadata": {},
   "source": [
    "# All the variables"
   ]
  },
  {
   "cell_type": "code",
   "execution_count": null,
   "metadata": {
    "ExecuteTime": {
     "end_time": "2017-05-17T06:30:26.495903Z",
     "start_time": "2017-05-17T06:30:26.491317Z"
    },
    "collapsed": true,
    "run_control": {
     "frozen": false,
     "read_only": false
    }
   },
   "outputs": [],
   "source": [
    "corr = recent.corr()"
   ]
  },
  {
   "cell_type": "code",
   "execution_count": null,
   "metadata": {
    "ExecuteTime": {
     "end_time": "2017-05-17T06:30:28.954085Z",
     "start_time": "2017-05-17T06:30:26.497295Z"
    },
    "run_control": {
     "frozen": false,
     "read_only": false
    },
    "scrolled": false
   },
   "outputs": [],
   "source": [
    "fig, ax = plt.subplots(figsize=(14,12));\n",
    "sns.heatmap(corr, ax=ax);\n",
    "plt.xlabel('');\n",
    "plt.ylabel('');\n",
    "plt.title('Correlation matrix heatmap');"
   ]
  },
  {
   "cell_type": "markdown",
   "metadata": {},
   "source": [
    "**To do**: Choose high correlation combinations to explore further."
   ]
  },
  {
   "cell_type": "markdown",
   "metadata": {},
   "source": [
    "# Bivariate visualizations of each combination of variables"
   ]
  },
  {
   "cell_type": "code",
   "execution_count": null,
   "metadata": {
    "collapsed": true
   },
   "outputs": [],
   "source": [
    "var1 = \n",
    "var2 = "
   ]
  },
  {
   "cell_type": "code",
   "execution_count": null,
   "metadata": {
    "ExecuteTime": {
     "end_time": "2017-05-17T06:30:28.959186Z",
     "start_time": "2017-05-17T06:30:28.955667Z"
    },
    "scrolled": true
   },
   "outputs": [],
   "source": [
    "g = sns.jointplot(var1, var2, recent, kind=\"hex\", gridsize=15)"
   ]
  },
  {
   "cell_type": "markdown",
   "metadata": {},
   "source": [
    "# Pair plots"
   ]
  },
  {
   "cell_type": "code",
   "execution_count": null,
   "metadata": {
    "ExecuteTime": {
     "end_time": "2017-05-17T06:30:28.959722Z",
     "start_time": "2017-05-17T06:30:20.985Z"
    },
    "collapsed": true,
    "run_control": {
     "frozen": false,
     "read_only": false
    }
   },
   "outputs": [],
   "source": [
    "variables_to_plot = []"
   ]
  },
  {
   "cell_type": "code",
   "execution_count": null,
   "metadata": {
    "ExecuteTime": {
     "end_time": "2017-05-17T06:30:28.960576Z",
     "start_time": "2017-05-17T06:30:20.988Z"
    },
    "run_control": {
     "frozen": false,
     "read_only": false
    }
   },
   "outputs": [],
   "source": [
    "sns.set(style=\"ticks\", color_codes=True);\n",
    "sns.pairplot(recent[variables_to_plot].dropna());"
   ]
  },
  {
   "cell_type": "markdown",
   "metadata": {
    "collapsed": true,
    "run_control": {
     "frozen": false,
     "read_only": false
    }
   },
   "source": [
    "<center><p style=\"text-align:center;font-size:160%\">© <a href=\"http://www.svds.com\">2017 Silicon Valley Data Science LLC</a></p></center>"
   ]
  }
 ],
 "metadata": {
  "kernelspec": {
   "display_name": "Python 3",
   "language": "python",
   "name": "python3"
  },
  "nav_menu": {},
  "toc": {
   "navigate_menu": true,
   "number_sections": true,
   "sideBar": true,
   "threshold": 6,
   "toc_cell": true,
   "toc_section_display": "block",
   "toc_window_display": false
  }
 },
 "nbformat": 4,
 "nbformat_minor": 2
}

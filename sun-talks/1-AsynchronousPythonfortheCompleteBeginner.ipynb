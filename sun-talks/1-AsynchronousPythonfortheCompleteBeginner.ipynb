{
 "cells": [
  {
   "cell_type": "markdown",
   "metadata": {},
   "source": [
    "# Asynchronous Python for the Complete Beginner\n",
    "### *Miguel Grinberg*\n",
    "<hr>\n",
    "## Description\n",
    "With the introduction of the asyncio package in Python 3.4, you can hear lots of people talking about asynchronous programming, most in a favorable way, some not so much. In this talk, I will tell you what this async fever is about and what can it do for you that regular Python can't, not only with asyncio, but also with other frameworks that existed long before it.\n",
    "<hr>"
   ]
  },
  {
   "cell_type": "markdown",
   "metadata": {},
   "source": [
    "## Talk\n",
    "### - Async a way to do concurrent programing\n",
    "    - Multiple Processes\n",
    "    - GIL prevents multi-core concurrency\n",
    "    - OS does all the multi-tasking work\n",
    "    - Asynchronous Programming\n",
    "        - No OS itervention\n",
    "        - One process, one thread\n",
    "        - Tasks release the CPU during a waiting period allowing other tasks to use the CPU\n",
    "### - How to implent\n",
    "    - Suspend and Resume\n",
    "    - Functions need the ability to stop and start\n",
    "    - A function that enters a waiting period is suspended, and only resumed when the wait is over\n",
    "    - Four ways to implement:\n",
    "        - Callback Functions\n",
    "        - Generator Functions\n",
    "        - Async/await(python 3.5+)\n",
    "        - Greenlets(plugin)\n",
    "    - Scheduling async tasks\n",
    "        - Event loop\n",
    "        - Keeps track of all the running tasks\n",
    "        - When function suspends return control to schedular\n",
    "        - [examples](https://gist.github.com/miguelgrinberg/f15bc03471f610cfebeba62438435508)\n",
    "        - Plugins: eventlet, gevent\n",
    "### - Async Pitfalls\n",
    "    - CPU Heavy Task\n",
    "        - Long CPU-intensive taks must routinely release the CPU to avoid starving other tasks\n",
    "        - Sleep periodically\n",
    "        - To tell the loop to return control back as soon as possible sleep for 0 seconds\n",
    "        - Example: `await asyncio.sleep(0)`\n",
    "    - Async and Python Standard Library\n",
    "        - Blocking library functions are incompatible with async frameworkds\n",
    "            - `socket.*`\n",
    "            - `subprocess.*`\n",
    "            - `threading.*`\n",
    "            - `time.sleep`\n",
    "        - All async frameworkds provide non-blocking replacements for these\n",
    "        - Eventlet and gevent can \"monkey-patch\" the standard library to make it async compatible\n",
    "### - Processes VS. Threads VS. Async\n",
    "    - Async most scalable\n",
    "    - GIL interference none with processing or async\n",
    "    - Only process uses all CPU cores\n",
    "    - Use multiprocces with async to increase speed and capacity\n",
    "    - Async is extremely light weight"
   ]
  }
 ],
 "metadata": {
  "kernelspec": {
   "display_name": "Python 3",
   "language": "python",
   "name": "python3"
  },
  "language_info": {
   "codemirror_mode": {
    "name": "ipython",
    "version": 3
   },
   "file_extension": ".py",
   "mimetype": "text/x-python",
   "name": "python",
   "nbconvert_exporter": "python",
   "pygments_lexer": "ipython3",
   "version": "3.5.3"
  }
 },
 "nbformat": 4,
 "nbformat_minor": 2
}

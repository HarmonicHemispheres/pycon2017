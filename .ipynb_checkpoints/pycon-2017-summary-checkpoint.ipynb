{
 "cells": [
  {
   "cell_type": "markdown",
   "metadata": {},
   "source": [
    "# Pycon 2017 Highlights\n",
    "\n",
    "### Table of Contents\n",
    "- Jupyter Notebooks\n",
    "    - Note Taking\n",
    "    - Data Analysis\n",
    "    - Widgets for notebook applications \n",
    "        - http://ipywidgets.readthedocs.io/en/latest/examples/Widget%20List.html\n",
    "- Asronomers Using Python\n",
    "    - James Wells Telescope \n",
    "        - https://jwst.nasa.gov/\n",
    "        - Using Python (https://github.com/WorldWideTelescope)\n",
    "    - Jake Vanderplaus\n",
    "- Tools for visualization\n",
    "    - Matplotlib\n",
    "    - Pandas\n",
    "    - Scikit learn\n",
    "    - seaborn\n",
    "- Genetics & Python\n",
    "    - Desktop Genetic (https://www.deskgen.com/landing/)\n",
    "    - Twist Bioscience (https://www.twistbioscience.com/)\n",
    "    - OpenEye Scientific (https://www.eyesopen.com/)\n",
    "- Anaconda\n",
    "    - managing python projects\n",
    "    - navigator for GUI (https://docs.continuum.io/anaconda/navigator/index.html)\n"
   ]
  },
  {
   "cell_type": "markdown",
   "metadata": {
    "slideshow": {
     "slide_type": "slide"
    }
   },
   "source": [
    "# Pycon 2017 Highlights"
   ]
  },
  {
   "cell_type": "code",
   "execution_count": null,
   "metadata": {
    "collapsed": true,
    "slideshow": {
     "slide_type": "slide"
    }
   },
   "outputs": [],
   "source": [
    "hjhjhhj"
   ]
  }
 ],
 "metadata": {
  "celltoolbar": "Slideshow",
  "kernelspec": {
   "display_name": "Python 3",
   "language": "python",
   "name": "python3"
  },
  "language_info": {
   "codemirror_mode": {
    "name": "ipython",
    "version": 3
   },
   "file_extension": ".py",
   "mimetype": "text/x-python",
   "name": "python",
   "nbconvert_exporter": "python",
   "pygments_lexer": "ipython3",
   "version": "3.6.0"
  }
 },
 "nbformat": 4,
 "nbformat_minor": 2
}

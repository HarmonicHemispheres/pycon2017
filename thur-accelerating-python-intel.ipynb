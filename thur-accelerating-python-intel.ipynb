{
 "cells": [
  {
   "cell_type": "markdown",
   "metadata": {},
   "source": [
    "## Intel: Accelerating Python across the range of applications: the right tools for the job\n",
    "\n",
    "#### GOAL\n",
    "\n",
    "- easy out of the box\n",
    "- high performance\n",
    "- faster access to latest optimizations for intel architecture\n",
    "\n",
    "#### Intel Python Distribution\n",
    "\n",
    "- https://software.intel.com/en-us/articles/intel-distribution-for-python-development-environment-setting-for-jupyter-notebook-and\n",
    "- https://software.intel.com/en-us/articles/intel-parallel-studio-xe-2018-beta\n",
    "\n",
    "\n",
    "#### DAAL\n",
    "PyDAAL allows for access to low level solutions of the DAAL api \n",
    "- https://software.intel.com/en-us/blogs/daal\n",
    "- https://github.com/daaltces/pydaal-tutorials\n",
    "\n",
    "\n",
    "#### ADVISOR\n",
    "Vectorization Optimization and Thread Prototyping\n",
    "\n",
    "* Vectorize and thread code or performance dies\n",
    "* Easy workflow + data + tips = faster code faster\n",
    "* Prioritize, prototype, and predict performance gain\n",
    "\n",
    "\n",
    "- https://software.intel.com/en-us/intel-advisor-xe\n",
    "\n",
    "\n",
    "#### VTune Amplifier\n",
    "\n",
    "- https://software.intel.com/en-us/-getting-started-with-intel-vtune-amplifier-xe-2017\n",
    "- https://software.intel.com/en-us/-getting-started-with-intel-vtune-amplifier-xe-2017-for-macos\n",
    "- https://software.intel.com/en-us/-getting-started-with-intel-vtune-amplifier-xe-2017-for-macos\n",
    "\n",
    "\n",
    "#### Distributed Computing Landscape\n",
    "\n",
    "- MPI4py\n",
    "- pySpark\n",
    "- dask\n",
    "\n",
    "\n",
    "\n",
    "## Peter Wang - pypy JIT\n",
    "\n",
    "### PyPy JIT ( just in time compilation)\n",
    "can be just as fast as C or Go\n",
    "- https://pypy.org/\n",
    "\n",
    "\n",
    "\n"
   ]
  },
  {
   "cell_type": "code",
   "execution_count": null,
   "metadata": {
    "collapsed": true
   },
   "outputs": [],
   "source": []
  }
 ],
 "metadata": {
  "kernelspec": {
   "display_name": "Python 3",
   "language": "python",
   "name": "python3"
  },
  "language_info": {
   "codemirror_mode": {
    "name": "ipython",
    "version": 3
   },
   "file_extension": ".py",
   "mimetype": "text/x-python",
   "name": "python",
   "nbconvert_exporter": "python",
   "pygments_lexer": "ipython3",
   "version": "3.6.0"
  }
 },
 "nbformat": 4,
 "nbformat_minor": 2
}
